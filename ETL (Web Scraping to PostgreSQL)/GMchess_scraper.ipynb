{
 "cells": [
  {
   "attachments": {},
   "cell_type": "markdown",
   "metadata": {},
   "source": [
    "Requirements"
   ]
  },
  {
   "cell_type": "code",
   "execution_count": null,
   "metadata": {},
   "outputs": [],
   "source": [
    "# ! python -m pip install sqlalchemy\n",
    "# ! python -m pip install lxml\n",
    "# ! python -m pip install psycopg2"
   ]
  },
  {
   "cell_type": "code",
   "execution_count": 35,
   "metadata": {},
   "outputs": [],
   "source": [
    "import pandas as pd\n",
    "import psycopg2\n",
    "from sqlalchemy import create_engine"
   ]
  },
  {
   "attachments": {},
   "cell_type": "markdown",
   "metadata": {},
   "source": [
    "# Extract"
   ]
  },
  {
   "cell_type": "code",
   "execution_count": 36,
   "metadata": {},
   "outputs": [],
   "source": [
    "# Chess rank website\n",
    "website_2021 = 'https://en.chessbase.com/post/the-new-fide-world-ranking-list-december-2021'\n",
    "website_2022 = 'https://en.chessbase.com/post/fide-ratings-december-2022'\n",
    "\n",
    "# Convert table to dataframe\n",
    "df1 = pd.read_html(website_2021, header=0, flavor='lxml')[0]"
   ]
  },
  {
   "cell_type": "code",
   "execution_count": 37,
   "metadata": {},
   "outputs": [
    {
     "data": {
      "text/html": [
       "<div>\n",
       "<style scoped>\n",
       "    .dataframe tbody tr th:only-of-type {\n",
       "        vertical-align: middle;\n",
       "    }\n",
       "\n",
       "    .dataframe tbody tr th {\n",
       "        vertical-align: top;\n",
       "    }\n",
       "\n",
       "    .dataframe thead th {\n",
       "        text-align: right;\n",
       "    }\n",
       "</style>\n",
       "<table border=\"1\" class=\"dataframe\">\n",
       "  <thead>\n",
       "    <tr style=\"text-align: right;\">\n",
       "      <th></th>\n",
       "      <th>Rank</th>\n",
       "      <th>Name</th>\n",
       "      <th>Title</th>\n",
       "      <th>Country</th>\n",
       "      <th>Rating</th>\n",
       "      <th>Games</th>\n",
       "      <th>B-Year</th>\n",
       "    </tr>\n",
       "  </thead>\n",
       "  <tbody>\n",
       "    <tr>\n",
       "      <th>0</th>\n",
       "      <td>1</td>\n",
       "      <td>Carlsen, Magnus</td>\n",
       "      <td>g</td>\n",
       "      <td>NOR</td>\n",
       "      <td>2856</td>\n",
       "      <td>1</td>\n",
       "      <td>1990</td>\n",
       "    </tr>\n",
       "    <tr>\n",
       "      <th>1</th>\n",
       "      <td>2</td>\n",
       "      <td>Firouzja, Alireza</td>\n",
       "      <td>g</td>\n",
       "      <td>FRA</td>\n",
       "      <td>2804</td>\n",
       "      <td>20</td>\n",
       "      <td>2003</td>\n",
       "    </tr>\n",
       "    <tr>\n",
       "      <th>2</th>\n",
       "      <td>3</td>\n",
       "      <td>Ding, Liren</td>\n",
       "      <td>g</td>\n",
       "      <td>CHN</td>\n",
       "      <td>2799</td>\n",
       "      <td>4</td>\n",
       "      <td>1992</td>\n",
       "    </tr>\n",
       "    <tr>\n",
       "      <th>3</th>\n",
       "      <td>4</td>\n",
       "      <td>Caruana, Fabiano</td>\n",
       "      <td>g</td>\n",
       "      <td>USA</td>\n",
       "      <td>2792</td>\n",
       "      <td>11</td>\n",
       "      <td>1992</td>\n",
       "    </tr>\n",
       "    <tr>\n",
       "      <th>4</th>\n",
       "      <td>5</td>\n",
       "      <td>Nepomniachtchi, Ian</td>\n",
       "      <td>g</td>\n",
       "      <td>RUS</td>\n",
       "      <td>2782</td>\n",
       "      <td>0</td>\n",
       "      <td>1990</td>\n",
       "    </tr>\n",
       "  </tbody>\n",
       "</table>\n",
       "</div>"
      ],
      "text/plain": [
       "   Rank                 Name Title Country  Rating  Games  B-Year\n",
       "0     1      Carlsen, Magnus     g     NOR    2856      1    1990\n",
       "1     2    Firouzja, Alireza     g     FRA    2804     20    2003\n",
       "2     3          Ding, Liren     g     CHN    2799      4    1992\n",
       "3     4     Caruana, Fabiano     g     USA    2792     11    1992\n",
       "4     5  Nepomniachtchi, Ian     g     RUS    2782      0    1990"
      ]
     },
     "execution_count": 37,
     "metadata": {},
     "output_type": "execute_result"
    }
   ],
   "source": [
    "df1.head()"
   ]
  },
  {
   "attachments": {},
   "cell_type": "markdown",
   "metadata": {},
   "source": [
    "# Transform"
   ]
  },
  {
   "attachments": {},
   "cell_type": "markdown",
   "metadata": {},
   "source": [
    "Name"
   ]
  },
  {
   "cell_type": "code",
   "execution_count": 38,
   "metadata": {},
   "outputs": [],
   "source": [
    "df1.loc[:, 'Name'] = df1['Name'].str.split(', ')\n",
    "df1.loc[:, 'Name'] = df1['Name'].apply(lambda x: x[0] if len(x) == 1 \\\n",
    "                                       else (x[1] + ' ' + x[0]))"
   ]
  },
  {
   "cell_type": "code",
   "execution_count": 39,
   "metadata": {},
   "outputs": [
    {
     "data": {
      "text/plain": [
       "0        Magnus Carlsen\n",
       "1      Alireza Firouzja\n",
       "2            Liren Ding\n",
       "3       Fabiano Caruana\n",
       "4    Ian Nepomniachtchi\n",
       "Name: Name, dtype: object"
      ]
     },
     "execution_count": 39,
     "metadata": {},
     "output_type": "execute_result"
    }
   ],
   "source": [
    "df1.head()['Name']"
   ]
  },
  {
   "attachments": {},
   "cell_type": "markdown",
   "metadata": {},
   "source": [
    "Country"
   ]
  },
  {
   "cell_type": "code",
   "execution_count": 40,
   "metadata": {},
   "outputs": [
    {
     "data": {
      "text/html": [
       "<div>\n",
       "<style scoped>\n",
       "    .dataframe tbody tr th:only-of-type {\n",
       "        vertical-align: middle;\n",
       "    }\n",
       "\n",
       "    .dataframe tbody tr th {\n",
       "        vertical-align: top;\n",
       "    }\n",
       "\n",
       "    .dataframe thead th {\n",
       "        text-align: right;\n",
       "    }\n",
       "</style>\n",
       "<table border=\"1\" class=\"dataframe\">\n",
       "  <thead>\n",
       "    <tr style=\"text-align: right;\">\n",
       "      <th></th>\n",
       "      <th>Country</th>\n",
       "      <th>Alpha-3 code</th>\n",
       "    </tr>\n",
       "  </thead>\n",
       "  <tbody>\n",
       "    <tr>\n",
       "      <th>0</th>\n",
       "      <td>Afghanistan</td>\n",
       "      <td>AFG</td>\n",
       "    </tr>\n",
       "    <tr>\n",
       "      <th>1</th>\n",
       "      <td>Åland Islands</td>\n",
       "      <td>ALA</td>\n",
       "    </tr>\n",
       "    <tr>\n",
       "      <th>2</th>\n",
       "      <td>Albania</td>\n",
       "      <td>ALB</td>\n",
       "    </tr>\n",
       "  </tbody>\n",
       "</table>\n",
       "</div>"
      ],
      "text/plain": [
       "         Country Alpha-3 code\n",
       "0    Afghanistan          AFG\n",
       "1  Åland Islands          ALA\n",
       "2        Albania          ALB"
      ]
     },
     "execution_count": 40,
     "metadata": {},
     "output_type": "execute_result"
    }
   ],
   "source": [
    "# Extract\n",
    "country_code_website = 'https://www.iban.com/country-codes'\n",
    "country_map = pd.read_html(country_code_website, header=0)[0]\n",
    "\n",
    "# Transform\n",
    "country_map.drop(['Alpha-2 code', 'Numeric'], axis=1, inplace=True)\n",
    "country_map.head(3)"
   ]
  },
  {
   "cell_type": "code",
   "execution_count": 41,
   "metadata": {},
   "outputs": [],
   "source": [
    "# Convert to python dictionary\n",
    "country_map.set_index('Alpha-3 code', inplace=True)\n",
    "country_map = country_map.to_dict()\n",
    "country_map = country_map['Country']\n",
    "\n",
    "# Replace the code with its name\n",
    "df1.loc[:, 'Country'] = df1['Country'].map(country_map)"
   ]
  },
  {
   "attachments": {},
   "cell_type": "markdown",
   "metadata": {},
   "source": [
    "Title"
   ]
  },
  {
   "cell_type": "code",
   "execution_count": 42,
   "metadata": {},
   "outputs": [],
   "source": [
    "df1.drop('Title', axis=1, inplace=True)"
   ]
  },
  {
   "cell_type": "code",
   "execution_count": 43,
   "metadata": {},
   "outputs": [
    {
     "data": {
      "text/html": [
       "<div>\n",
       "<style scoped>\n",
       "    .dataframe tbody tr th:only-of-type {\n",
       "        vertical-align: middle;\n",
       "    }\n",
       "\n",
       "    .dataframe tbody tr th {\n",
       "        vertical-align: top;\n",
       "    }\n",
       "\n",
       "    .dataframe thead th {\n",
       "        text-align: right;\n",
       "    }\n",
       "</style>\n",
       "<table border=\"1\" class=\"dataframe\">\n",
       "  <thead>\n",
       "    <tr style=\"text-align: right;\">\n",
       "      <th></th>\n",
       "      <th>Rank</th>\n",
       "      <th>Name</th>\n",
       "      <th>Country</th>\n",
       "      <th>Rating</th>\n",
       "      <th>Games</th>\n",
       "      <th>B-Year</th>\n",
       "    </tr>\n",
       "  </thead>\n",
       "  <tbody>\n",
       "    <tr>\n",
       "      <th>0</th>\n",
       "      <td>1</td>\n",
       "      <td>Magnus Carlsen</td>\n",
       "      <td>Norway</td>\n",
       "      <td>2856</td>\n",
       "      <td>1</td>\n",
       "      <td>1990</td>\n",
       "    </tr>\n",
       "    <tr>\n",
       "      <th>1</th>\n",
       "      <td>2</td>\n",
       "      <td>Alireza Firouzja</td>\n",
       "      <td>France</td>\n",
       "      <td>2804</td>\n",
       "      <td>20</td>\n",
       "      <td>2003</td>\n",
       "    </tr>\n",
       "    <tr>\n",
       "      <th>2</th>\n",
       "      <td>3</td>\n",
       "      <td>Liren Ding</td>\n",
       "      <td>China</td>\n",
       "      <td>2799</td>\n",
       "      <td>4</td>\n",
       "      <td>1992</td>\n",
       "    </tr>\n",
       "    <tr>\n",
       "      <th>3</th>\n",
       "      <td>4</td>\n",
       "      <td>Fabiano Caruana</td>\n",
       "      <td>United States of America (the)</td>\n",
       "      <td>2792</td>\n",
       "      <td>11</td>\n",
       "      <td>1992</td>\n",
       "    </tr>\n",
       "    <tr>\n",
       "      <th>4</th>\n",
       "      <td>5</td>\n",
       "      <td>Ian Nepomniachtchi</td>\n",
       "      <td>Russian Federation (the)</td>\n",
       "      <td>2782</td>\n",
       "      <td>0</td>\n",
       "      <td>1990</td>\n",
       "    </tr>\n",
       "    <tr>\n",
       "      <th>5</th>\n",
       "      <td>6</td>\n",
       "      <td>Levon Aronian</td>\n",
       "      <td>Armenia</td>\n",
       "      <td>2772</td>\n",
       "      <td>11</td>\n",
       "      <td>1982</td>\n",
       "    </tr>\n",
       "    <tr>\n",
       "      <th>6</th>\n",
       "      <td>7</td>\n",
       "      <td>Anish Giri</td>\n",
       "      <td>NaN</td>\n",
       "      <td>2772</td>\n",
       "      <td>9</td>\n",
       "      <td>1994</td>\n",
       "    </tr>\n",
       "    <tr>\n",
       "      <th>7</th>\n",
       "      <td>8</td>\n",
       "      <td>Wesley So</td>\n",
       "      <td>United States of America (the)</td>\n",
       "      <td>2772</td>\n",
       "      <td>0</td>\n",
       "      <td>1993</td>\n",
       "    </tr>\n",
       "    <tr>\n",
       "      <th>8</th>\n",
       "      <td>9</td>\n",
       "      <td>Shakhriyar Mamedyarov</td>\n",
       "      <td>Azerbaijan</td>\n",
       "      <td>2767</td>\n",
       "      <td>8</td>\n",
       "      <td>1985</td>\n",
       "    </tr>\n",
       "    <tr>\n",
       "      <th>9</th>\n",
       "      <td>10</td>\n",
       "      <td>Alexander Grischuk</td>\n",
       "      <td>Russian Federation (the)</td>\n",
       "      <td>2764</td>\n",
       "      <td>9</td>\n",
       "      <td>1983</td>\n",
       "    </tr>\n",
       "  </tbody>\n",
       "</table>\n",
       "</div>"
      ],
      "text/plain": [
       "   Rank                   Name                         Country  Rating  Games  \\\n",
       "0     1         Magnus Carlsen                          Norway    2856      1   \n",
       "1     2       Alireza Firouzja                          France    2804     20   \n",
       "2     3             Liren Ding                           China    2799      4   \n",
       "3     4        Fabiano Caruana  United States of America (the)    2792     11   \n",
       "4     5     Ian Nepomniachtchi        Russian Federation (the)    2782      0   \n",
       "5     6          Levon Aronian                         Armenia    2772     11   \n",
       "6     7             Anish Giri                             NaN    2772      9   \n",
       "7     8              Wesley So  United States of America (the)    2772      0   \n",
       "8     9  Shakhriyar Mamedyarov                      Azerbaijan    2767      8   \n",
       "9    10     Alexander Grischuk        Russian Federation (the)    2764      9   \n",
       "\n",
       "   B-Year  \n",
       "0    1990  \n",
       "1    2003  \n",
       "2    1992  \n",
       "3    1992  \n",
       "4    1990  \n",
       "5    1982  \n",
       "6    1994  \n",
       "7    1993  \n",
       "8    1985  \n",
       "9    1983  "
      ]
     },
     "execution_count": 43,
     "metadata": {},
     "output_type": "execute_result"
    }
   ],
   "source": [
    "# We only take top 10 entries\n",
    "lim = 10\n",
    "df1 = df1.iloc[:lim, :]\n",
    "\n",
    "df1"
   ]
  },
  {
   "cell_type": "code",
   "execution_count": 33,
   "metadata": {},
   "outputs": [
    {
     "data": {
      "text/plain": [
       "Rank        int64\n",
       "Name       object\n",
       "Country    object\n",
       "Rating      int64\n",
       "Games       int64\n",
       "B-Year      int64\n",
       "dtype: object"
      ]
     },
     "execution_count": 33,
     "metadata": {},
     "output_type": "execute_result"
    }
   ],
   "source": [
    "df1.dtypes"
   ]
  },
  {
   "attachments": {},
   "cell_type": "markdown",
   "metadata": {},
   "source": [
    "# Load"
   ]
  },
  {
   "cell_type": "code",
   "execution_count": 67,
   "metadata": {},
   "outputs": [
    {
     "data": {
      "text/plain": [
       "10"
      ]
     },
     "execution_count": 67,
     "metadata": {},
     "output_type": "execute_result"
    }
   ],
   "source": [
    "from db_url import db_url       # import db_url string from db_url module\n",
    "\n",
    "engine = create_engine(db_url)\n",
    "df1.to_sql('chess_player', engine, if_exists='replace', schema='Schema_2', index=False)"
   ]
  },
  {
   "cell_type": "code",
   "execution_count": 78,
   "metadata": {},
   "outputs": [
    {
     "name": "stdout",
     "output_type": "stream",
     "text": [
      "Rank\tRating\tName\n",
      "1\t2856\tMagnus Carlsen\n",
      "2\t2804\tAlireza Firouzja\n",
      "3\t2799\tLiren Ding\n",
      "4\t2792\tFabiano Caruana\n",
      "5\t2782\tIan Nepomniachtchi\n",
      "6\t2772\tLevon Aronian\n",
      "7\t2772\tAnish Giri\n",
      "8\t2772\tWesley So\n",
      "9\t2767\tShakhriyar Mamedyarov\n",
      "10\t2764\tAlexander Grischuk\n"
     ]
    }
   ],
   "source": [
    "with engine.connect() as connection:\n",
    "    result = connection.execute('SELECT * FROM \"Schema_2\".chess_player')\n",
    "    print('Rank\\tRating\\tName')\n",
    "    for row in result:\n",
    "        print(str(row[0]) + '\\t' + str(row[3]) + '\\t' + row[1])"
   ]
  },
  {
   "attachments": {},
   "cell_type": "markdown",
   "metadata": {},
   "source": [
    "# 2022"
   ]
  },
  {
   "cell_type": "code",
   "execution_count": 85,
   "metadata": {},
   "outputs": [],
   "source": [
    "# Extract\n",
    "df2 = pd.read_html(website_2022, header=0, flavor='lxml')[0]\n",
    "\n",
    "# Name\n",
    "df2.loc[:, 'Name'] = df2['Name'].str.split(', ')\n",
    "df2.loc[:, 'Name'] = df2['Name'].apply(lambda x: x[0] if len(x) == 1 \\\n",
    "                                       else (x[1] + ' ' + x[0]))\n",
    "\n",
    "# Country\n",
    "df2.loc[:, 'Country'] = df2['Country'].map(country_map)\n",
    "\n",
    "# Title\n",
    "df2.drop('Title', axis=1, inplace=True)\n",
    "\n",
    "# Updating the last 2021 top players\n",
    "filt = df2['Name'].isin(df1['Name'].unique())\n",
    "df2 = df2[filt]"
   ]
  },
  {
   "cell_type": "code",
   "execution_count": 86,
   "metadata": {},
   "outputs": [
    {
     "data": {
      "text/plain": [
       "10"
      ]
     },
     "execution_count": 86,
     "metadata": {},
     "output_type": "execute_result"
    }
   ],
   "source": [
    "from db_url import db_url       # import db_url string from db_url module\n",
    "\n",
    "engine = create_engine(db_url)\n",
    "df2.to_sql('chess_player', engine, if_exists='replace', schema='Schema_2', index=False)"
   ]
  },
  {
   "cell_type": "code",
   "execution_count": 87,
   "metadata": {},
   "outputs": [
    {
     "name": "stdout",
     "output_type": "stream",
     "text": [
      "Rank\tRating\tName\n",
      "1\t2859\tMagnus Carlsen\n",
      "2\t2811\tLiren Ding\n",
      "3\t2793\tIan Nepomniachtchi\n",
      "4\t2785\tAlireza Firouzja\n",
      "6\t2766\tFabiano Caruana\n",
      "7\t2764\tAnish Giri\n",
      "8\t2760\tWesley So\n",
      "12\t2745\tAlexander Grischuk\n",
      "14\t2740\tShakhriyar Mamedyarov\n",
      "17\t2735\tLevon Aronian\n"
     ]
    }
   ],
   "source": [
    "with engine.connect() as connection:\n",
    "    result = connection.execute('SELECT * FROM \"Schema_2\".chess_player')\n",
    "    print('Rank\\tRating\\tName')\n",
    "    for row in result:\n",
    "        print(str(row[0]) + '\\t' + str(row[3]) + '\\t' + row[1])"
   ]
  }
 ],
 "metadata": {
  "kernelspec": {
   "display_name": "Python 3",
   "language": "python",
   "name": "python3"
  },
  "language_info": {
   "codemirror_mode": {
    "name": "ipython",
    "version": 3
   },
   "file_extension": ".py",
   "mimetype": "text/x-python",
   "name": "python",
   "nbconvert_exporter": "python",
   "pygments_lexer": "ipython3",
   "version": "3.9.13 (tags/v3.9.13:6de2ca5, May 17 2022, 16:36:42) [MSC v.1929 64 bit (AMD64)]"
  },
  "orig_nbformat": 4,
  "vscode": {
   "interpreter": {
    "hash": "cf92aa13fedf815d5c8dd192b8d835913fde3e8bc926b2a0ad6cc74ef2ba3ca2"
   }
  }
 },
 "nbformat": 4,
 "nbformat_minor": 2
}
