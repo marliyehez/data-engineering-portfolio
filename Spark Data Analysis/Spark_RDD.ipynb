{
  "nbformat": 4,
  "nbformat_minor": 0,
  "metadata": {
    "colab": {
      "provenance": [],
      "toc_visible": true
    },
    "kernelspec": {
      "name": "python3",
      "display_name": "Python 3"
    },
    "language_info": {
      "name": "python"
    }
  },
  "cells": [
    {
      "cell_type": "code",
      "source": [
        "# Requirements\n",
        "!pip install pyspark"
      ],
      "metadata": {
        "colab": {
          "base_uri": "https://localhost:8080/"
        },
        "id": "cMjvJwN53UN2",
        "outputId": "6dcf07f2-b206-4573-ebb5-2b9b38405af2"
      },
      "execution_count": 1,
      "outputs": [
        {
          "output_type": "stream",
          "name": "stdout",
          "text": [
            "Looking in indexes: https://pypi.org/simple, https://us-python.pkg.dev/colab-wheels/public/simple/\n",
            "Collecting pyspark\n",
            "  Downloading pyspark-3.3.1.tar.gz (281.4 MB)\n",
            "\u001b[2K     \u001b[90m━━━━━━━━━━━━━━━━━━━━━━━━━━━━━━━━━━━━━━━\u001b[0m \u001b[32m281.4/281.4 MB\u001b[0m \u001b[31m4.9 MB/s\u001b[0m eta \u001b[36m0:00:00\u001b[0m\n",
            "\u001b[?25h  Preparing metadata (setup.py) ... \u001b[?25l\u001b[?25hdone\n",
            "Collecting py4j==0.10.9.5\n",
            "  Downloading py4j-0.10.9.5-py2.py3-none-any.whl (199 kB)\n",
            "\u001b[2K     \u001b[90m━━━━━━━━━━━━━━━━━━━━━━━━━━━━━━━━━━━━━━\u001b[0m \u001b[32m199.7/199.7 KB\u001b[0m \u001b[31m19.0 MB/s\u001b[0m eta \u001b[36m0:00:00\u001b[0m\n",
            "\u001b[?25hBuilding wheels for collected packages: pyspark\n",
            "  Building wheel for pyspark (setup.py) ... \u001b[?25l\u001b[?25hdone\n",
            "  Created wheel for pyspark: filename=pyspark-3.3.1-py2.py3-none-any.whl size=281845512 sha256=1068dd9c6b8b24b53613e75e5fba0d081befd81b27eb500447ae0db66319cc79\n",
            "  Stored in directory: /root/.cache/pip/wheels/43/dc/11/ec201cd671da62fa9c5cc77078235e40722170ceba231d7598\n",
            "Successfully built pyspark\n",
            "Installing collected packages: py4j, pyspark\n",
            "Successfully installed py4j-0.10.9.5 pyspark-3.3.1\n"
          ]
        }
      ]
    },
    {
      "cell_type": "markdown",
      "source": [
        "# French Bakery"
      ],
      "metadata": {
        "id": "opjLWmUFGypR"
      }
    },
    {
      "cell_type": "markdown",
      "source": [
        "## Preparing for the data"
      ],
      "metadata": {
        "id": "lIs9x7xf58A9"
      }
    },
    {
      "cell_type": "code",
      "source": [
        "# Unziping file\n",
        "!unzip '/content/french_bakery.zip'"
      ],
      "metadata": {
        "colab": {
          "base_uri": "https://localhost:8080/"
        },
        "id": "8l_C_Cf9G1yg",
        "outputId": "a53bd2df-6ed4-4f70-dbed-9c67b110a3ca"
      },
      "execution_count": 2,
      "outputs": [
        {
          "output_type": "stream",
          "name": "stdout",
          "text": [
            "Archive:  /content/french_bakery.zip\n",
            "  inflating: Bakery sales.csv        \n"
          ]
        }
      ]
    },
    {
      "cell_type": "code",
      "source": [
        "from pyspark import SparkContext\n",
        "import re\n",
        "\n",
        "sc = SparkContext.getOrCreate()"
      ],
      "metadata": {
        "id": "sZykYNMwG-3z"
      },
      "execution_count": 3,
      "outputs": []
    },
    {
      "cell_type": "markdown",
      "source": [
        "Columns' Explanation\n",
        "\n",
        "- `ticket number`: identifier for every single transaction\n",
        "- `article`: name of the product sold (in French)\n",
        "- `quantity`: quantity sold\n",
        "- `unit_price`: price per product\n",
        "- `Objective`: Forecast the sales in order to ease the production planning"
      ],
      "metadata": {
        "id": "yMFkVx6GKZGj"
      }
    },
    {
      "cell_type": "markdown",
      "source": [
        "## Transform"
      ],
      "metadata": {
        "id": "LGM4WTV554JR"
      }
    },
    {
      "cell_type": "code",
      "source": [
        "# Get the rdd\n",
        "lines = sc.textFile(\"Bakery sales.csv\")\n",
        "rdd = lines.map(lambda x: x.split(','))\n",
        "\n",
        "# Remove header\n",
        "header = rdd.first()\n",
        "rdd = rdd.filter(lambda x: x!= header)\n",
        "\n",
        "rdd.take(1)"
      ],
      "metadata": {
        "id": "anGbSHEcHmPB",
        "colab": {
          "base_uri": "https://localhost:8080/"
        },
        "outputId": "c955f355-1e7a-4010-d672-3be3236fa7b4"
      },
      "execution_count": 4,
      "outputs": [
        {
          "output_type": "execute_result",
          "data": {
            "text/plain": [
              "[['0', '2021-01-02', '08:38', '150040.0', 'BAGUETTE', '1.0', '\"0', '90 €\"']]"
            ]
          },
          "metadata": {},
          "execution_count": 4
        }
      ]
    },
    {
      "cell_type": "code",
      "source": [
        "# Some rows contain more element\n",
        "rdd.map(lambda x: (len(x), 1)).reduceByKey(lambda x, y: x+y).collect()"
      ],
      "metadata": {
        "colab": {
          "base_uri": "https://localhost:8080/"
        },
        "id": "XRkqd-c7-zg_",
        "outputId": "1fc7947a-087d-4831-fe68-2f4a61c93594"
      },
      "execution_count": 5,
      "outputs": [
        {
          "output_type": "execute_result",
          "data": {
            "text/plain": [
              "[(8, 233984), (9, 21)]"
            ]
          },
          "metadata": {},
          "execution_count": 5
        }
      ]
    },
    {
      "cell_type": "code",
      "source": [
        "# Some rows contain comma in their product's name,\n",
        "#   that is: \"PLATPREPARE6,50\" and \"PLATPREPARE7,00\"\n",
        "rdd.filter(lambda x: (len(x)==9)).collect() "
      ],
      "metadata": {
        "id": "svSwrcKq_Kh7",
        "colab": {
          "base_uri": "https://localhost:8080/"
        },
        "outputId": "e33dd3c8-6cf0-4191-fb22-ae69f5a56049"
      },
      "execution_count": 6,
      "outputs": [
        {
          "output_type": "execute_result",
          "data": {
            "text/plain": [
              "[['137071',\n",
              "  '2021-07-12',\n",
              "  '08:25',\n",
              "  '187148.0',\n",
              "  '\"PLATPREPARE6',\n",
              "  '50\"',\n",
              "  '1.0',\n",
              "  '\"0',\n",
              "  '00 €\"'],\n",
              " ['137604',\n",
              "  '2021-07-12',\n",
              "  '11:30',\n",
              "  '187296.0',\n",
              "  '\"PLATPREPARE6',\n",
              "  '50\"',\n",
              "  '2.0',\n",
              "  '\"6',\n",
              "  '50 €\"'],\n",
              " ['137605',\n",
              "  '2021-07-12',\n",
              "  '11:30',\n",
              "  '187296.0',\n",
              "  '\"PLATPREPARE5',\n",
              "  '50\"',\n",
              "  '1.0',\n",
              "  '\"5',\n",
              "  '50 €\"'],\n",
              " ['137698',\n",
              "  '2021-07-12',\n",
              "  '11:52',\n",
              "  '187322.0',\n",
              "  '\"PLATPREPARE7',\n",
              "  '00\"',\n",
              "  '3.0',\n",
              "  '\"7',\n",
              "  '00 €\"'],\n",
              " ['138743',\n",
              "  '2021-07-13',\n",
              "  '10:35',\n",
              "  '187606.0',\n",
              "  '\"PLATPREPARE7',\n",
              "  '00\"',\n",
              "  '4.0',\n",
              "  '\"7',\n",
              "  '00 €\"'],\n",
              " ['138901',\n",
              "  '2021-07-13',\n",
              "  '11:17',\n",
              "  '187650.0',\n",
              "  '\"PLATPREPARE5',\n",
              "  '50\"',\n",
              "  '1.0',\n",
              "  '\"5',\n",
              "  '50 €\"'],\n",
              " ['138903',\n",
              "  '2021-07-13',\n",
              "  '11:17',\n",
              "  '187650.0',\n",
              "  '\"PLATPREPARE6',\n",
              "  '00\"',\n",
              "  '1.0',\n",
              "  '\"6',\n",
              "  '00 €\"'],\n",
              " ['139134',\n",
              "  '2021-07-13',\n",
              "  '12:19',\n",
              "  '187715.0',\n",
              "  '\"PLATPREPARE7',\n",
              "  '00\"',\n",
              "  '1.0',\n",
              "  '\"7',\n",
              "  '00 €\"'],\n",
              " ['139559',\n",
              "  '2021-07-13',\n",
              "  '19:23',\n",
              "  '187833.0',\n",
              "  '\"PLATPREPARE7',\n",
              "  '00\"',\n",
              "  '1.0',\n",
              "  '\"7',\n",
              "  '00 €\"'],\n",
              " ['139560',\n",
              "  '2021-07-13',\n",
              "  '19:23',\n",
              "  '187833.0',\n",
              "  '\"PLATPREPARE5',\n",
              "  '50\"',\n",
              "  '1.0',\n",
              "  '\"5',\n",
              "  '50 €\"'],\n",
              " ['254324',\n",
              "  '2021-11-04',\n",
              "  '09:01',\n",
              "  '218738.0',\n",
              "  '\"PLATPREPARE6',\n",
              "  '50\"',\n",
              "  '1.0',\n",
              "  '\"6',\n",
              "  '50 €\"'],\n",
              " ['254809',\n",
              "  '2021-11-04',\n",
              "  '13:15',\n",
              "  '218874.0',\n",
              "  '\"PLATPREPARE7',\n",
              "  '00\"',\n",
              "  '1.0',\n",
              "  '\"7',\n",
              "  '00 €\"'],\n",
              " ['254883',\n",
              "  '2021-11-04',\n",
              "  '13:50',\n",
              "  '218896.0',\n",
              "  '\"PLATPREPARE7',\n",
              "  '00\"',\n",
              "  '1.0',\n",
              "  '\"7',\n",
              "  '00 €\"'],\n",
              " ['254946',\n",
              "  '2021-11-04',\n",
              "  '17:18',\n",
              "  '218916.0',\n",
              "  '\"PLATPREPARE7',\n",
              "  '00\"',\n",
              "  '2.0',\n",
              "  '\"7',\n",
              "  '00 €\"'],\n",
              " ['255090',\n",
              "  '2021-11-05',\n",
              "  '08:56',\n",
              "  '218957.0',\n",
              "  '\"PLATPREPARE6',\n",
              "  '50\"',\n",
              "  '1.0',\n",
              "  '\"6',\n",
              "  '50 €\"'],\n",
              " ['255528',\n",
              "  '2021-11-05',\n",
              "  '12:49',\n",
              "  '219080.0',\n",
              "  '\"PLATPREPARE6',\n",
              "  '50\"',\n",
              "  '1.0',\n",
              "  '\"6',\n",
              "  '50 €\"'],\n",
              " ['255608',\n",
              "  '2021-11-05',\n",
              "  '13:21',\n",
              "  '219101.0',\n",
              "  '\"PLATPREPARE7',\n",
              "  '00\"',\n",
              "  '1.0',\n",
              "  '\"7',\n",
              "  '00 €\"'],\n",
              " ['255634',\n",
              "  '2021-11-05',\n",
              "  '13:28',\n",
              "  '219108.0',\n",
              "  '\"PLATPREPARE7',\n",
              "  '00\"',\n",
              "  '1.0',\n",
              "  '\"7',\n",
              "  '00 €\"'],\n",
              " ['255757',\n",
              "  '2021-11-05',\n",
              "  '17:42',\n",
              "  '219141.0',\n",
              "  '\"PLATPREPARE6',\n",
              "  '50\"',\n",
              "  '2.0',\n",
              "  '\"6',\n",
              "  '50 €\"'],\n",
              " ['255766',\n",
              "  '2021-11-05',\n",
              "  '17:55',\n",
              "  '219144.0',\n",
              "  '\"PLATPREPARE7',\n",
              "  '00\"',\n",
              "  '1.0',\n",
              "  '\"7',\n",
              "  '00 €\"'],\n",
              " ['255900',\n",
              "  '2021-11-06',\n",
              "  '09:35',\n",
              "  '219179.0',\n",
              "  '\"PLATPREPARE7',\n",
              "  '00\"',\n",
              "  '1.0',\n",
              "  '\"7',\n",
              "  '00 €\"']]"
            ]
          },
          "metadata": {},
          "execution_count": 6
        }
      ]
    },
    {
      "cell_type": "code",
      "source": [
        "# Columns transformation\n",
        "def columns_transfrom(row):\n",
        "    id = row[3][:-2]\n",
        "    date = row[1]\n",
        "    time = row[2]\n",
        "    product = row[4]\n",
        "    \n",
        "    quantity =  row[-3]\n",
        "    unit_price = f\"{row[-2]}.{row[-1]}\"\n",
        "\n",
        "    if len(row) == 9:\n",
        "        product = f\"{row[4]},{row[5]}\"\n",
        "    \n",
        "    return (id, date, time, product, quantity, unit_price)\n",
        "\n",
        "rdd = rdd.map(columns_transfrom)\n",
        "rdd.take(3)"
      ],
      "metadata": {
        "colab": {
          "base_uri": "https://localhost:8080/"
        },
        "id": "WfCo9hEeM7lq",
        "outputId": "d2e3d155-fb19-4c8e-d718-016f449b6894"
      },
      "execution_count": 7,
      "outputs": [
        {
          "output_type": "execute_result",
          "data": {
            "text/plain": [
              "[('150040', '2021-01-02', '08:38', 'BAGUETTE', '1.0', '\"0.90 €\"'),\n",
              " ('150040', '2021-01-02', '08:38', 'PAIN AU CHOCOLAT', '3.0', '\"1.20 €\"'),\n",
              " ('150041', '2021-01-02', '09:14', 'PAIN AU CHOCOLAT', '2.0', '\"1.20 €\"')]"
            ]
          },
          "metadata": {},
          "execution_count": 7
        }
      ]
    },
    {
      "cell_type": "code",
      "source": [
        "# Second column transformation\n",
        "def columns_transfrom_2(row):\n",
        "\n",
        "    id, date, time, product, quantity, unit_price = row\n",
        "    \n",
        "    year, month, date = date.split('-')\n",
        "    year, month, date = int(year), int(month), int(date)\n",
        "\n",
        "    hour, minute = time.split(':')\n",
        "    hour, minute = int(hour), int(minute)\n",
        "\n",
        "    quantity = re.search('\\d(\\.|\")', quantity).group()[:-1]\n",
        "    quantity = int(quantity)\n",
        "    \n",
        "    unit_price = re.search(r\"(\\d| )\\.\\d+\", unit_price).group()\n",
        "    unit_price = float(unit_price)\n",
        "    \n",
        "    return (id, year, month, date, hour, minute, product, quantity, unit_price)\n",
        "\n",
        "rdd = rdd.map(columns_transfrom_2)\n",
        "rdd.take(3)"
      ],
      "metadata": {
        "colab": {
          "base_uri": "https://localhost:8080/"
        },
        "id": "FZfMirXkFWxQ",
        "outputId": "b317958f-c6c3-4d1e-8033-1204bc6593fb"
      },
      "execution_count": 8,
      "outputs": [
        {
          "output_type": "execute_result",
          "data": {
            "text/plain": [
              "[('150040', 2021, 1, 2, 8, 38, 'BAGUETTE', 1, 0.9),\n",
              " ('150040', 2021, 1, 2, 8, 38, 'PAIN AU CHOCOLAT', 3, 1.2),\n",
              " ('150041', 2021, 1, 2, 9, 14, 'PAIN AU CHOCOLAT', 2, 1.2)]"
            ]
          },
          "metadata": {},
          "execution_count": 8
        }
      ]
    },
    {
      "cell_type": "markdown",
      "source": [
        "## Data analysis"
      ],
      "metadata": {
        "id": "f5TMrOc_6GHb"
      }
    },
    {
      "cell_type": "code",
      "source": [
        "# Most sold product\n",
        "sorted(\n",
        "    rdd.map(lambda x: (x[-3], x[-2]))\\\n",
        "    .reduceByKey(lambda x, y: x+y).collect(),\n",
        "\n",
        "    key=lambda x: x[1], reverse=True\n",
        ")"
      ],
      "metadata": {
        "id": "X4Nzz2YVJjNu",
        "colab": {
          "base_uri": "https://localhost:8080/"
        },
        "outputId": "aa300628-cd91-4a4c-db2d-494df505f32a"
      },
      "execution_count": 9,
      "outputs": [
        {
          "output_type": "execute_result",
          "data": {
            "text/plain": [
              "[('TRADITIONAL BAGUETTE', 116873),\n",
              " ('CROISSANT', 28500),\n",
              " ('PAIN AU CHOCOLAT', 24548),\n",
              " ('COUPE', 23487),\n",
              " ('BANETTE', 22898),\n",
              " ('BAGUETTE', 21739),\n",
              " ('CEREAL BAGUETTE', 7509),\n",
              " ('SPECIAL BREAD', 5520),\n",
              " ('FORMULE SANDWICH', 5379),\n",
              " ('TARTELETTE', 5032),\n",
              " ('BOULE 400G', 4778),\n",
              " ('CAMPAGNE', 4326),\n",
              " ('COOKIE', 3763),\n",
              " ('ECLAIR', 3654),\n",
              " ('VIK BREAD', 3633),\n",
              " ('COMPLET', 3563),\n",
              " ('FICELLE', 3449),\n",
              " ('MOISSON', 3394),\n",
              " ('BANETTINE', 3120),\n",
              " ('BOULE 200G', 3098),\n",
              " ('PAIN BANETTE', 3043),\n",
              " ('SANDWICH COMPLET', 2914),\n",
              " ('PAIN AUX RAISINS', 2753),\n",
              " ('PAIN', 2409),\n",
              " ('CROISSANT AMANDES', 2369),\n",
              " ('KOUIGN AMANN', 2367),\n",
              " ('QUIM BREAD', 2153),\n",
              " ('CAFE OU EAU', 1966),\n",
              " ('CHAUSSON AUX POMMES', 1946),\n",
              " ('PAIN CHOCO AMANDES', 1919),\n",
              " ('BOISSON 33CL', 1904),\n",
              " ('BAGUETTE GRAINE', 1880),\n",
              " ('SAND JB EMMENTAL', 1832),\n",
              " ('BRIOCHE', 1720),\n",
              " ('GRAND FAR BRETON', 1506),\n",
              " ('TRAITEUR', 1476),\n",
              " ('SEIGLE', 1418),\n",
              " ('PARIS BREST', 1294),\n",
              " ('FINANCIER X5', 1275),\n",
              " ('DEMI BAGUETTE', 1147),\n",
              " ('FLAN', 1097),\n",
              " ('MILLES FEUILLES', 1046),\n",
              " ('SUCETTE', 1041),\n",
              " ('GD KOUIGN AMANN', 1027),\n",
              " ('DIVERS VIENNOISERIE', 850),\n",
              " ('TARTELETTE FRAISE', 819),\n",
              " ('FLAN ABRICOT', 801),\n",
              " ('PT NANTAIS', 751),\n",
              " ('NANTAIS', 599),\n",
              " ('FRAISIER', 589),\n",
              " ('DIVERS PATISSERIE', 538),\n",
              " ('BOULE POLKA', 525),\n",
              " ('SACHET VIENNOISERIE', 515),\n",
              " ('TROPEZIENNE', 508),\n",
              " ('DIVERS CONFISERIE', 503),\n",
              " ('SPECIAL BREAD KG', 467),\n",
              " ('SAVARIN', 467),\n",
              " ('NOIX JAPONAISE', 447),\n",
              " ('MACARON', 433),\n",
              " ('TARTE FRUITS 4P', 388),\n",
              " ('PLAT 7.60E', 338),\n",
              " ('GRANDE SUCETTE', 334),\n",
              " ('DIVERS BOULANGERIE', 327),\n",
              " ('FONDANT CHOCOLAT', 318),\n",
              " ('BOTTEREAU', 309),\n",
              " ('ROYAL', 293),\n",
              " ('TARTE FRUITS 6P', 283),\n",
              " ('PALET BRETON', 277),\n",
              " ('CHOU CHANTILLY', 271),\n",
              " ('DIVERS SANDWICHS', 241),\n",
              " ('VIENNOISE', 218),\n",
              " ('GAL FRANGIPANE 4P', 215),\n",
              " ('GD FAR BRETON', 177),\n",
              " ('TARTE FRAISE 4PER', 169),\n",
              " ('DEMI PAIN', 163),\n",
              " ('PAIN S/SEL', 152),\n",
              " ('PLAT 8.30E', 148),\n",
              " ('PAILLE', 135),\n",
              " ('GACHE', 131),\n",
              " ('SABLE F  P', 130),\n",
              " ('GAL FRANGIPANE 6P', 128),\n",
              " ('TARTE FRAISE 6P', 128),\n",
              " ('SACHET DE CROUTON', 125),\n",
              " ('RELIGIEUSE', 119),\n",
              " ('PLAT 7.00', 114),\n",
              " ('ST HONORE', 110),\n",
              " ('CARAMEL NOIX', 100),\n",
              " ('GAL POMME 4P', 99),\n",
              " ('GD NANTAIS', 99),\n",
              " ('FRAMBOISIER', 97),\n",
              " ('DIVERS BOISSONS', 88),\n",
              " ('TRIANGLES', 83),\n",
              " ('CHOCOLAT', 82),\n",
              " ('ROYAL 4P', 78),\n",
              " ('BAGUETTE APERO', 76),\n",
              " ('12 MACARON', 70),\n",
              " ('ROYAL 6P', 68),\n",
              " ('TARTE FINE', 67),\n",
              " ('BRIOCHETTE', 66),\n",
              " ('MERINGUE', 65),\n",
              " ('GAL POMME 6P', 62),\n",
              " ('TARTELETTE CHOC', 62),\n",
              " ('DELICETROPICAL', 61),\n",
              " ('BROWNIES', 47),\n",
              " ('PAIN DE MIE', 40),\n",
              " ('ENTREMETS', 38),\n",
              " ('NID DE POULE', 35),\n",
              " ('TROPEZIENNE FRAMBOISE', 33),\n",
              " ('GAL POIRE CHOCO 4P', 24),\n",
              " ('ECLAIR FRAISE PISTACHE', 22),\n",
              " ('FINANCIER', 22),\n",
              " ('PAIN SUISSE PEPITO', 21),\n",
              " ('BRIOCHE DE NOEL', 19),\n",
              " ('\"PLATPREPARE7,00\"', 17),\n",
              " ('GAL POIRE CHOCO 6P', 15),\n",
              " ('FORMULE PLAT PREPARE', 11),\n",
              " ('BUCHE 4PERS', 11),\n",
              " ('PLAT', 9),\n",
              " ('CRUMBLE', 9),\n",
              " ('REDUCTION SUCREES 12', 8),\n",
              " ('\"PLATPREPARE6,50\"', 8),\n",
              " ('BUCHE 6PERS', 8),\n",
              " ('.', 7),\n",
              " ('THE', 7),\n",
              " ('PALMIER', 6),\n",
              " ('SAND JB', 5),\n",
              " ('PT PLATEAU SALE', 4),\n",
              " ('TULIPE', 4),\n",
              " ('ARMORICAIN', 3),\n",
              " ('PAIN GRAINES', 3),\n",
              " ('\"PLATPREPARE5,50\"', 3),\n",
              " ('CRUMBLECARAMEL OU PISTAE', 3),\n",
              " ('GUERANDAIS', 3),\n",
              " ('PATES', 2),\n",
              " ('GALETTE 8 PERS', 2),\n",
              " ('GD PLATEAU SALE', 2),\n",
              " ('PLAT 6.50E', 2),\n",
              " ('FORMULE PATE', 2),\n",
              " ('BUCHE 8PERS', 2),\n",
              " ('PLAQUE TARTE 25P', 2),\n",
              " ('TARTELETTE COCKTAIL', 2),\n",
              " ('CAKE', 1),\n",
              " ('\"PLATPREPARE6,00\"', 1),\n",
              " ('ARTICLE 295', 1),\n",
              " ('REDUCTION SUCREES 24', 1),\n",
              " ('DOUCEUR D HIVER', 1),\n",
              " ('TROIS CHOCOLAT', 1),\n",
              " ('PAIN NOIR', 1),\n",
              " ('SACHET DE VIENNOISERIE', 1)]"
            ]
          },
          "metadata": {},
          "execution_count": 9
        }
      ]
    },
    {
      "cell_type": "code",
      "source": [
        "# Transactions with the highest income\n",
        "result = rdd.map(lambda x: (x[0], x[-1]*x[-2]))\\\n",
        "            .reduceByKey(lambda x, y: x+y)\\\n",
        "            .collect()\n",
        "        \n",
        "       \n",
        "result = sorted(result, key=lambda x: x[1], reverse=True)[:10]\n",
        "print('Transaction Id \\t Income')\n",
        "for item in result:\n",
        "    print(f\"{item[0]} \\t\\t {item[1]} €\")"
      ],
      "metadata": {
        "colab": {
          "base_uri": "https://localhost:8080/"
        },
        "id": "iQyRJj84E9Ma",
        "outputId": "96f3aa35-38f4-4da9-a95c-4855f2ec5b97"
      },
      "execution_count": 10,
      "outputs": [
        {
          "output_type": "stream",
          "name": "stdout",
          "text": [
            "Transaction Id \t Income\n",
            "194199 \t\t 79.7 €\n",
            "256455 \t\t 64.2 €\n",
            "220468 \t\t 61.2 €\n",
            "197217 \t\t 58.6 €\n",
            "198481 \t\t 57.2 €\n",
            "198573 \t\t 54.2 €\n",
            "273733 \t\t 52.800000000000004 €\n",
            "272070 \t\t 49.9 €\n",
            "229276 \t\t 49.0 €\n",
            "270964 \t\t 48.9 €\n"
          ]
        }
      ]
    },
    {
      "cell_type": "code",
      "source": [
        "# Total income per year\n",
        "result = rdd.map(lambda x: (x[1], x[-1]*x[-2]))\\\n",
        "            .reduceByKey(lambda x, y: x+y)\\\n",
        "            .collect()\n",
        "\n",
        "print('Year \\t Income')\n",
        "for item in result:\n",
        "    print(f\"{item[0]} \\t {item[1]:.2f} €\")"
      ],
      "metadata": {
        "id": "dwcZP9DQFE50",
        "colab": {
          "base_uri": "https://localhost:8080/"
        },
        "outputId": "46a5cccd-0bca-4103-c446-924cc9da78ce"
      },
      "execution_count": 11,
      "outputs": [
        {
          "output_type": "stream",
          "name": "stdout",
          "text": [
            "Year \t Income\n",
            "2022 \t 246857.83 €\n",
            "2021 \t 294123.72 €\n"
          ]
        }
      ]
    },
    {
      "cell_type": "code",
      "source": [
        "# Total income per month\n",
        "result = rdd.map(lambda x: (x[2], x[-1]*x[-2]))\\\n",
        "            .reduceByKey(lambda x, y: x+y)\\\n",
        "            .mapValues(lambda x: x/2)\\\n",
        "            .collect()\n",
        "\n",
        "print('Month \\t Avg Income')\n",
        "for item in sorted(result, key=lambda x: x[1], reverse=True):\n",
        "    print(f\"{item[0]} \\t {item[1]:.2f} €\")"
      ],
      "metadata": {
        "colab": {
          "base_uri": "https://localhost:8080/"
        },
        "id": "TrIrLBN5IkQa",
        "outputId": "aacb2567-fb55-41bf-a0b4-17a359ff9a99"
      },
      "execution_count": 12,
      "outputs": [
        {
          "output_type": "stream",
          "name": "stdout",
          "text": [
            "Month \t Avg Income\n",
            "8 \t 49552.65 €\n",
            "7 \t 42699.34 €\n",
            "5 \t 28485.38 €\n",
            "4 \t 24284.75 €\n",
            "6 \t 24260.28 €\n",
            "9 \t 21611.80 €\n",
            "3 \t 19706.01 €\n",
            "2 \t 16978.22 €\n",
            "1 \t 14352.58 €\n",
            "10 \t 10938.83 €\n",
            "12 \t 8875.32 €\n",
            "11 \t 8745.62 €\n"
          ]
        }
      ]
    },
    {
      "cell_type": "code",
      "source": [
        "# What time do transactions ted to happen?\n",
        "#   morning       3.00 - 9.59\n",
        "#   noon          10.00 - 17.59\n",
        "#   night         18.00 - 2.59\n",
        "\n",
        "def when_to_buy(row):\n",
        "    when = 'night'\n",
        "    if (row[4] >= 3) and (row[4] <= 9):\n",
        "        when = 'morning'\n",
        "    elif (row[4] >= 10) and (row[4] <= 17):\n",
        "        when = 'noon'\n",
        "    \n",
        "    return (row[0], when)\n",
        "\n",
        "result = rdd.map(when_to_buy)\\\n",
        "            .reduceByKey(lambda x, y: x)\\\n",
        "            .map(lambda x: (x[1], 1))\\\n",
        "            .reduceByKey(lambda x, y: x+y)\\\n",
        "            .collect()\n",
        "\n",
        "for item in result:\n",
        "    print(f\"{item[0]}    \\t{item[1]} transcations\")"
      ],
      "metadata": {
        "colab": {
          "base_uri": "https://localhost:8080/"
        },
        "id": "U6QeBzcKCWRy",
        "outputId": "17ba3298-6800-4a83-90b2-b3f3a7eb8075"
      },
      "execution_count": 13,
      "outputs": [
        {
          "output_type": "stream",
          "name": "stdout",
          "text": [
            "noon    \t93182 transcations\n",
            "night    \t7090 transcations\n",
            "morning    \t36179 transcations\n"
          ]
        }
      ]
    },
    {
      "cell_type": "markdown",
      "source": [
        "# Instagram App Store Reviews"
      ],
      "metadata": {
        "id": "0cjCtNwo8XLk"
      }
    },
    {
      "cell_type": "markdown",
      "source": [
        "## Preparing for the data"
      ],
      "metadata": {
        "id": "O74H4fim6P52"
      }
    },
    {
      "cell_type": "code",
      "source": [
        "from pyspark import SparkContext\n",
        "import re\n",
        "\n",
        "sc = SparkContext.getOrCreate()"
      ],
      "metadata": {
        "id": "3l935BkY8bkr"
      },
      "execution_count": 14,
      "outputs": []
    },
    {
      "cell_type": "code",
      "source": [
        "# Get the rdd \n",
        "rdd = sc.textFile(\"Instagram.csv\") \n",
        "\n",
        "rdd.take(3)"
      ],
      "metadata": {
        "colab": {
          "base_uri": "https://localhost:8080/"
        },
        "id": "zxY-PeyQ8eFB",
        "outputId": "5d07db69-5931-4276-b792-1fd0024d856d"
      },
      "execution_count": 15,
      "outputs": [
        {
          "output_type": "execute_result",
          "data": {
            "text/plain": [
              "['reviewId,content,score',\n",
              " '83c7935d-d791-4d9c-b738-c7984992491a,It is a best app,5',\n",
              " '2d56d1a3-a4d0-4482-ae45-8394d2b8951f,\"I love Insta, my No1 social media app❤️\",5']"
            ]
          },
          "metadata": {},
          "execution_count": 15
        }
      ]
    },
    {
      "cell_type": "markdown",
      "source": [
        "## Transform"
      ],
      "metadata": {
        "id": "awEanSFd6XYN"
      }
    },
    {
      "cell_type": "code",
      "source": [
        "# Remove header\n",
        "header = rdd.first()\n",
        "rdd = rdd.filter(lambda x: x!= header)\n",
        "\n",
        "# Get the information about rating and review\n",
        "def parser(line):\n",
        "    row = line.split(',')\n",
        "    rating, review = row[-1], row[1]\n",
        "    for i in range(2, len(row)-1):\n",
        "        review += row[i]\n",
        "    \n",
        "    return (rating, review)\n",
        "\n",
        "rdd = rdd.map(parser)\n",
        "\n",
        "rdd.take(2)"
      ],
      "metadata": {
        "colab": {
          "base_uri": "https://localhost:8080/"
        },
        "id": "u0_mNXrzALX0",
        "outputId": "134334a4-ecb2-4eea-ed83-ebd604c23ced"
      },
      "execution_count": 16,
      "outputs": [
        {
          "output_type": "execute_result",
          "data": {
            "text/plain": [
              "[('5', 'It is a best app'), ('5', '\"I love Insta my No1 social media app❤️\"')]"
            ]
          },
          "metadata": {},
          "execution_count": 16
        }
      ]
    },
    {
      "cell_type": "code",
      "source": [
        "# Drop rows with missing values in ratings\n",
        "missing_ratings = rdd.filter(lambda x: re.search('^\\D', x[0])).collect()\n",
        "rdd = rdd.filter(lambda x: x not in missing_ratings)\n",
        "\n",
        "missing_ratings"
      ],
      "metadata": {
        "colab": {
          "base_uri": "https://localhost:8080/"
        },
        "id": "39E03w4IDJDQ",
        "outputId": "5ab67f5e-9d69-4c80-8230-913669837e21"
      },
      "execution_count": 17,
      "outputs": [
        {
          "output_type": "execute_result",
          "data": {
            "text/plain": [
              "[('\"Cool app... Watch only what u follow... Free from politics and ads... ',\n",
              "  '\"Cool app... Watch only what u follow... Free from politics and ads... ')]"
            ]
          },
          "metadata": {},
          "execution_count": 17
        }
      ]
    },
    {
      "cell_type": "markdown",
      "source": [
        "## Data analysis"
      ],
      "metadata": {
        "id": "UELZMEj46mnl"
      }
    },
    {
      "cell_type": "code",
      "source": [
        "# Distribution of ratings\n",
        "result = rdd.mapValues(lambda x: 1)\\\n",
        "            .reduceByKey(lambda x, y: x+y)\\\n",
        "            .collect()\n",
        "\n",
        "for item in result:\n",
        "    print(f\"{int(item[0])}   {item[1]}\")"
      ],
      "metadata": {
        "colab": {
          "base_uri": "https://localhost:8080/"
        },
        "id": "GmQKWYz5-0Im",
        "outputId": "256f2c8d-4d5f-4d70-a7d5-e733c48f9efb"
      },
      "execution_count": 18,
      "outputs": [
        {
          "output_type": "stream",
          "name": "stdout",
          "text": [
            "1   1604\n",
            "4   836\n",
            "5   6643\n",
            "3   526\n",
            "2   391\n"
          ]
        }
      ]
    },
    {
      "cell_type": "markdown",
      "source": [
        "### Most common words in \"Good\" ratings review"
      ],
      "metadata": {
        "id": "TuQMrj1463Qc"
      }
    },
    {
      "cell_type": "code",
      "source": [
        "# Good ratings RDD\n",
        "goodRDD = rdd.filter(lambda x: x[0] in ['4', '5'])\n",
        "goodRDD.take(5)"
      ],
      "metadata": {
        "colab": {
          "base_uri": "https://localhost:8080/"
        },
        "id": "HvH1MF3NGrxq",
        "outputId": "15803a77-4e75-4f99-b0c8-d976643c9912"
      },
      "execution_count": 19,
      "outputs": [
        {
          "output_type": "execute_result",
          "data": {
            "text/plain": [
              "[('5', 'It is a best app'),\n",
              " ('5', '\"I love Insta my No1 social media app❤️\"'),\n",
              " ('5', '\"THIS IS A VERY GOOD APP 👌🙂\"'),\n",
              " ('5', 'Nice app'),\n",
              " ('5', 'Good reel and good dance')]"
            ]
          },
          "metadata": {},
          "execution_count": 19
        }
      ]
    },
    {
      "cell_type": "code",
      "source": [
        "# Flatmap to normalize words\n",
        "goodRDD = goodRDD.flatMap(lambda x: re.compile(r'\\W+').split(x[1].lower()))\n",
        "\n",
        "# Results\n",
        "sorted(\n",
        "    goodRDD.map(lambda x: (x, 1))\\\n",
        "        .reduceByKey(lambda x, y: x + y)\\\n",
        "        .collect(),\n",
        "       \n",
        "    key=lambda x: x[1], reverse=True\n",
        ")[:50]"
      ],
      "metadata": {
        "colab": {
          "base_uri": "https://localhost:8080/"
        },
        "id": "fITpDwoFIqwY",
        "outputId": "1cffc8cf-a42d-479e-807e-8db2e6ec9afd"
      },
      "execution_count": 20,
      "outputs": [
        {
          "output_type": "execute_result",
          "data": {
            "text/plain": [
              "[('', 2624),\n",
              " ('app', 1710),\n",
              " ('good', 1342),\n",
              " ('i', 1080),\n",
              " ('nice', 1068),\n",
              " ('very', 897),\n",
              " ('it', 768),\n",
              " ('is', 669),\n",
              " ('and', 623),\n",
              " ('instagram', 616),\n",
              " ('this', 613),\n",
              " ('to', 552),\n",
              " ('the', 535),\n",
              " ('best', 505),\n",
              " ('my', 471),\n",
              " ('love', 463),\n",
              " ('a', 388),\n",
              " ('s', 365),\n",
              " ('you', 318),\n",
              " ('for', 313),\n",
              " ('but', 270),\n",
              " ('so', 262),\n",
              " ('super', 256),\n",
              " ('like', 232),\n",
              " ('please', 215),\n",
              " ('of', 206),\n",
              " ('great', 203),\n",
              " ('amazing', 198),\n",
              " ('not', 197),\n",
              " ('me', 188),\n",
              " ('in', 184),\n",
              " ('aap', 158),\n",
              " ('t', 153),\n",
              " ('awesome', 146),\n",
              " ('can', 141),\n",
              " ('excellent', 137),\n",
              " ('have', 134),\n",
              " ('that', 134),\n",
              " ('with', 130),\n",
              " ('use', 119),\n",
              " ('on', 106),\n",
              " ('social', 103),\n",
              " ('hai', 102),\n",
              " ('insta', 99),\n",
              " ('your', 98),\n",
              " ('application', 95),\n",
              " ('are', 92),\n",
              " ('all', 92),\n",
              " ('really', 90),\n",
              " ('time', 89)]"
            ]
          },
          "metadata": {},
          "execution_count": 20
        }
      ]
    },
    {
      "cell_type": "markdown",
      "source": [
        "### Most common words in \"Bad\" ratings review"
      ],
      "metadata": {
        "id": "lWbBfdgE6-3S"
      }
    },
    {
      "cell_type": "code",
      "source": [
        "# Bad ratings RDD\n",
        "badRDD = rdd.filter(lambda x: x[0] in ['1', '2'])\n",
        "badRDD.take(5)"
      ],
      "metadata": {
        "colab": {
          "base_uri": "https://localhost:8080/"
        },
        "id": "QC5IP9BHH-iC",
        "outputId": "47f97ff2-0173-41e2-9cb8-104c95d4950a"
      },
      "execution_count": 21,
      "outputs": [
        {
          "output_type": "execute_result",
          "data": {
            "text/plain": [
              "[('1',\n",
              "  \"I would have given you 0 stars if i could. Fix your algorithm I'm being spammed by sex workers acounts with sketchy Links that Instagram don't see a problem in when I report it. I'm starting to hate this app and it's stupid algorithm. Just make the mobile version like the desktop version and stop this shitfest!\"),\n",
              " ('1', 'Worst I want to uninstall this'),\n",
              " ('1', 'Reply problem please solved this problem'),\n",
              " ('1', \"It's hanging\"),\n",
              " ('1',\n",
              "  '\"Internet connectivity gets bugged way too often  re-downloading fixes it but not for long and you\\'ll have to do the same again over and over. Ok so now re-downloading also doesn\\'t help very nice 🙂\"')]"
            ]
          },
          "metadata": {},
          "execution_count": 21
        }
      ]
    },
    {
      "cell_type": "code",
      "source": [
        "# Flatmap to normalize words\n",
        "badRDD = badRDD.flatMap(lambda x: re.compile(r'\\W+').split(x[1].lower()))\n",
        "\n",
        "# Results\n",
        "sorted(\n",
        "    badRDD.map(lambda x: (x, 1))\\\n",
        "        .reduceByKey(lambda x, y: x + y)\\\n",
        "        .collect(),\n",
        "       \n",
        "    key=lambda x: x[1], reverse=True\n",
        ")[:50]"
      ],
      "metadata": {
        "colab": {
          "base_uri": "https://localhost:8080/"
        },
        "id": "rxVVuCaJ9Ube",
        "outputId": "9dedf83e-b5b9-4f47-8350-ba45897efdea"
      },
      "execution_count": 22,
      "outputs": [
        {
          "output_type": "execute_result",
          "data": {
            "text/plain": [
              "[('', 1045),\n",
              " ('i', 963),\n",
              " ('to', 634),\n",
              " ('the', 590),\n",
              " ('it', 564),\n",
              " ('my', 553),\n",
              " ('and', 544),\n",
              " ('not', 483),\n",
              " ('app', 460),\n",
              " ('is', 455),\n",
              " ('t', 423),\n",
              " ('instagram', 354),\n",
              " ('this', 327),\n",
              " ('a', 315),\n",
              " ('in', 264),\n",
              " ('of', 245),\n",
              " ('account', 220),\n",
              " ('can', 213),\n",
              " ('but', 210),\n",
              " ('for', 207),\n",
              " ('s', 195),\n",
              " ('on', 194),\n",
              " ('you', 191),\n",
              " ('please', 182),\n",
              " ('me', 179),\n",
              " ('are', 152),\n",
              " ('very', 150),\n",
              " ('that', 148),\n",
              " ('have', 143),\n",
              " ('good', 140),\n",
              " ('so', 137),\n",
              " ('problem', 130),\n",
              " ('don', 129),\n",
              " ('no', 124),\n",
              " ('many', 120),\n",
              " ('as', 117),\n",
              " ('with', 113),\n",
              " ('all', 109),\n",
              " ('update', 107),\n",
              " ('working', 106),\n",
              " ('when', 104),\n",
              " ('even', 101),\n",
              " ('bad', 101),\n",
              " ('option', 99),\n",
              " ('there', 95),\n",
              " ('am', 93),\n",
              " ('like', 89),\n",
              " ('post', 85),\n",
              " ('nice', 84),\n",
              " ('now', 83)]"
            ]
          },
          "metadata": {},
          "execution_count": 22
        }
      ]
    }
  ]
}