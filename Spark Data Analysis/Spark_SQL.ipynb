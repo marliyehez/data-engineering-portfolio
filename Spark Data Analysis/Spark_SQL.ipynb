{
  "nbformat": 4,
  "nbformat_minor": 0,
  "metadata": {
    "colab": {
      "provenance": [],
      "toc_visible": true
    },
    "kernelspec": {
      "name": "python3",
      "display_name": "Python 3"
    },
    "language_info": {
      "name": "python"
    }
  },
  "cells": [
    {
      "cell_type": "code",
      "source": [
        "# Requirements\n",
        "!pip install pyspark"
      ],
      "metadata": {
        "colab": {
          "base_uri": "https://localhost:8080/"
        },
        "id": "cMjvJwN53UN2",
        "outputId": "7ab34bec-b482-411c-ad93-f0dd73df77b3"
      },
      "execution_count": 23,
      "outputs": [
        {
          "output_type": "stream",
          "name": "stdout",
          "text": [
            "Looking in indexes: https://pypi.org/simple, https://us-python.pkg.dev/colab-wheels/public/simple/\n",
            "Requirement already satisfied: pyspark in /usr/local/lib/python3.8/dist-packages (3.3.1)\n",
            "Requirement already satisfied: py4j==0.10.9.5 in /usr/local/lib/python3.8/dist-packages (from pyspark) (0.10.9.5)\n"
          ]
        }
      ]
    },
    {
      "cell_type": "markdown",
      "source": [
        "# Getting the data"
      ],
      "metadata": {
        "id": "7O_YKtUN7kXJ"
      }
    },
    {
      "cell_type": "code",
      "source": [
        "from pyspark.sql import SparkSession, functions\n",
        "spark = SparkSession.builder.appName('app').getOrCreate()"
      ],
      "metadata": {
        "id": "6G23prCpK-Ds"
      },
      "execution_count": 24,
      "outputs": []
    },
    {
      "cell_type": "code",
      "source": [
        "df = spark.read.csv('go_to_college.csv', header=True, inferSchema=True)"
      ],
      "metadata": {
        "id": "KWKOtSIBLb_B"
      },
      "execution_count": 26,
      "outputs": []
    },
    {
      "cell_type": "markdown",
      "source": [
        "Columns' Explanation\n",
        "\n",
        "\n",
        "- `type_school` : Type of school that student attends\n",
        "- `school_accreditation` : Quality of school. A is better than B.\n",
        "- `gender` : Gender of student\n",
        "- `interest` : How interested are students if they go to college\n",
        "- `residence` : Type of residence\n",
        "- `parent_age` : Parent age\n",
        "- `parent_salary` : Parent salary per month in IDR/Rupiah\n",
        "- `house_area` : Parent house area in meter square\n",
        "- `average_grades` : Average of grades in scale of 0-100\n",
        "- `parent_was_in_college` : Was parent ever in college?\n",
        "- `will_go_to_college` : Predictions about going to college"
      ],
      "metadata": {
        "id": "fggncblwR7Ng"
      }
    },
    {
      "cell_type": "code",
      "source": [
        "df.printSchema()"
      ],
      "metadata": {
        "colab": {
          "base_uri": "https://localhost:8080/"
        },
        "id": "5ROkHc-NLrv-",
        "outputId": "92b059e0-6c31-4d1b-8229-8ed959d09f2c"
      },
      "execution_count": 27,
      "outputs": [
        {
          "output_type": "stream",
          "name": "stdout",
          "text": [
            "root\n",
            " |-- type_school: string (nullable = true)\n",
            " |-- school_accreditation: string (nullable = true)\n",
            " |-- gender: string (nullable = true)\n",
            " |-- interest: string (nullable = true)\n",
            " |-- residence: string (nullable = true)\n",
            " |-- parent_age: integer (nullable = true)\n",
            " |-- parent_salary: integer (nullable = true)\n",
            " |-- house_area: double (nullable = true)\n",
            " |-- average_grades: double (nullable = true)\n",
            " |-- parent_was_in_college: boolean (nullable = true)\n",
            " |-- will_go_to_college: boolean (nullable = true)\n",
            "\n"
          ]
        }
      ]
    },
    {
      "cell_type": "code",
      "source": [
        "df.dtypes"
      ],
      "metadata": {
        "colab": {
          "base_uri": "https://localhost:8080/"
        },
        "id": "PFVOtg6rL-Yj",
        "outputId": "20de7bfa-5481-4992-af67-9acc23380e77"
      },
      "execution_count": 28,
      "outputs": [
        {
          "output_type": "execute_result",
          "data": {
            "text/plain": [
              "[('type_school', 'string'),\n",
              " ('school_accreditation', 'string'),\n",
              " ('gender', 'string'),\n",
              " ('interest', 'string'),\n",
              " ('residence', 'string'),\n",
              " ('parent_age', 'int'),\n",
              " ('parent_salary', 'int'),\n",
              " ('house_area', 'double'),\n",
              " ('average_grades', 'double'),\n",
              " ('parent_was_in_college', 'boolean'),\n",
              " ('will_go_to_college', 'boolean')]"
            ]
          },
          "metadata": {},
          "execution_count": 28
        }
      ]
    },
    {
      "cell_type": "code",
      "source": [
        "cols = ['parent_age', 'parent_salary', 'house_area', 'average_grades']\n",
        "# df.select(cols).describe().show()\n",
        "df.select(cols).summary().show()"
      ],
      "metadata": {
        "colab": {
          "base_uri": "https://localhost:8080/"
        },
        "id": "4OzP30JjL_zx",
        "outputId": "0291e1ff-81c7-4c10-fc64-686e72f7473e"
      },
      "execution_count": 29,
      "outputs": [
        {
          "output_type": "stream",
          "name": "stdout",
          "text": [
            "+-------+-----------------+------------------+------------------+------------------+\n",
            "|summary|       parent_age|     parent_salary|        house_area|    average_grades|\n",
            "+-------+-----------------+------------------+------------------+------------------+\n",
            "|  count|             1000|              1000|              1000|              1000|\n",
            "|   mean|           52.208|         5381570.0| 74.51530000000005| 86.09719999999999|\n",
            "| stddev|3.500426972383368|1397545.9096822797|15.293345687989016|3.3787384085236942|\n",
            "|    min|               40|           1000000|              20.0|              75.0|\n",
            "|    25%|               50|           4360000|              64.6|             83.73|\n",
            "|    50%|               52|           5440000|              75.5|             85.57|\n",
            "|    75%|               54|           6380000|              84.8|             88.26|\n",
            "|    max|               65|          10000000|             120.0|              98.0|\n",
            "+-------+-----------------+------------------+------------------+------------------+\n",
            "\n"
          ]
        }
      ]
    },
    {
      "cell_type": "markdown",
      "source": [
        "# Categorical Columns"
      ],
      "metadata": {
        "id": "2DGLXpO3-KYI"
      }
    },
    {
      "cell_type": "markdown",
      "source": [
        "**Result**\n",
        "\n",
        "> Many of `Very Interested` and `Interested` student are not going to college. The opposite also happened to the  `Not Interested` and `Less Interested` student. We can see that interest doesn't linearly correlated with college admission. Even so, the presence of significance can make us use the `interest` column as a predictor.\n",
        "\n",
        "> Other categorical columns don't give siginificant difference in affecting student to go to college."
      ],
      "metadata": {
        "id": "avF2YpU0WOcG"
      }
    },
    {
      "cell_type": "code",
      "source": [
        "# interest\n",
        "col = 'interest'\n",
        "for value in df.select(col).distinct().collect():\n",
        "    \n",
        "    print(value[0])\n",
        "    df.filter(df[col]==value[0])\\\n",
        "        .groupBy('will_go_to_college')\\\n",
        "        .count()\\\n",
        "        .show()"
      ],
      "metadata": {
        "colab": {
          "base_uri": "https://localhost:8080/"
        },
        "id": "9xOI4pxB-Pvj",
        "outputId": "f4315f37-167a-4661-8843-f1c12a641511"
      },
      "execution_count": 30,
      "outputs": [
        {
          "output_type": "stream",
          "name": "stdout",
          "text": [
            "Very Interested\n",
            "+------------------+-----+\n",
            "|will_go_to_college|count|\n",
            "+------------------+-----+\n",
            "|              true|  190|\n",
            "|             false|  134|\n",
            "+------------------+-----+\n",
            "\n",
            "Less Interested\n",
            "+------------------+-----+\n",
            "|will_go_to_college|count|\n",
            "+------------------+-----+\n",
            "|              true|   87|\n",
            "|             false|  142|\n",
            "+------------------+-----+\n",
            "\n",
            "Uncertain\n",
            "+------------------+-----+\n",
            "|will_go_to_college|count|\n",
            "+------------------+-----+\n",
            "|              true|  158|\n",
            "|             false|  103|\n",
            "+------------------+-----+\n",
            "\n",
            "Interested\n",
            "+------------------+-----+\n",
            "|will_go_to_college|count|\n",
            "+------------------+-----+\n",
            "|              true|   19|\n",
            "|             false|   81|\n",
            "+------------------+-----+\n",
            "\n",
            "Not Interested\n",
            "+------------------+-----+\n",
            "|will_go_to_college|count|\n",
            "+------------------+-----+\n",
            "|              true|   46|\n",
            "|             false|   40|\n",
            "+------------------+-----+\n",
            "\n"
          ]
        }
      ]
    },
    {
      "cell_type": "code",
      "source": [
        "# type_school\n",
        "col = 'type_school'\n",
        "for value in df.select(col).distinct().collect():\n",
        "    \n",
        "    print(value[0])\n",
        "    df.filter(df[col]==value[0])\\\n",
        "        .groupBy('will_go_to_college')\\\n",
        "        .count()\\\n",
        "        .show()"
      ],
      "metadata": {
        "colab": {
          "base_uri": "https://localhost:8080/"
        },
        "id": "wD9vZdX0G_64",
        "outputId": "7067042d-6209-4807-ba4f-47f7e38f57b2"
      },
      "execution_count": 31,
      "outputs": [
        {
          "output_type": "stream",
          "name": "stdout",
          "text": [
            "Vocational\n",
            "+------------------+-----+\n",
            "|will_go_to_college|count|\n",
            "+------------------+-----+\n",
            "|              true|  187|\n",
            "|             false|  204|\n",
            "+------------------+-----+\n",
            "\n",
            "Academic\n",
            "+------------------+-----+\n",
            "|will_go_to_college|count|\n",
            "+------------------+-----+\n",
            "|              true|  313|\n",
            "|             false|  296|\n",
            "+------------------+-----+\n",
            "\n"
          ]
        }
      ]
    },
    {
      "cell_type": "code",
      "source": [
        "# school_accreditation\n",
        "col = 'school_accreditation'\n",
        "for value in df.select(col).distinct().collect():\n",
        "    \n",
        "    print(value[0])\n",
        "    df.filter(df[col]==value[0])\\\n",
        "        .groupBy('will_go_to_college')\\\n",
        "        .count()\\\n",
        "        .show()"
      ],
      "metadata": {
        "colab": {
          "base_uri": "https://localhost:8080/"
        },
        "id": "pD6TPWRTH5pI",
        "outputId": "ae66421e-66ef-4d3c-99fe-ed3b40b59a7c"
      },
      "execution_count": 32,
      "outputs": [
        {
          "output_type": "stream",
          "name": "stdout",
          "text": [
            "B\n",
            "+------------------+-----+\n",
            "|will_go_to_college|count|\n",
            "+------------------+-----+\n",
            "|              true|  252|\n",
            "|             false|  267|\n",
            "+------------------+-----+\n",
            "\n",
            "A\n",
            "+------------------+-----+\n",
            "|will_go_to_college|count|\n",
            "+------------------+-----+\n",
            "|              true|  248|\n",
            "|             false|  233|\n",
            "+------------------+-----+\n",
            "\n"
          ]
        }
      ]
    },
    {
      "cell_type": "code",
      "source": [
        "# gender\n",
        "col = 'gender'\n",
        "for value in df.select(col).distinct().collect():\n",
        "    \n",
        "    print(value[0])\n",
        "    df.filter(df[col]==value[0])\\\n",
        "        .groupBy('will_go_to_college')\\\n",
        "        .count()\\\n",
        "        .show()"
      ],
      "metadata": {
        "colab": {
          "base_uri": "https://localhost:8080/"
        },
        "id": "EGdBFwcXICKs",
        "outputId": "aa9c47d0-8192-4e1c-e011-6173aac57316"
      },
      "execution_count": 33,
      "outputs": [
        {
          "output_type": "stream",
          "name": "stdout",
          "text": [
            "Female\n",
            "+------------------+-----+\n",
            "|will_go_to_college|count|\n",
            "+------------------+-----+\n",
            "|              true|  251|\n",
            "|             false|  234|\n",
            "+------------------+-----+\n",
            "\n",
            "Male\n",
            "+------------------+-----+\n",
            "|will_go_to_college|count|\n",
            "+------------------+-----+\n",
            "|              true|  249|\n",
            "|             false|  266|\n",
            "+------------------+-----+\n",
            "\n"
          ]
        }
      ]
    },
    {
      "cell_type": "code",
      "source": [
        "# residence\n",
        "col = 'residence'\n",
        "for value in df.select(col).distinct().collect():\n",
        "    \n",
        "    print(value[0])\n",
        "    df.filter(df[col]==value[0])\\\n",
        "        .groupBy('will_go_to_college')\\\n",
        "        .count()\\\n",
        "        .show()"
      ],
      "metadata": {
        "colab": {
          "base_uri": "https://localhost:8080/"
        },
        "id": "d2Y9_zMLINXg",
        "outputId": "0dee9cc1-851f-44c2-ee4c-b45e10f2df1c"
      },
      "execution_count": 34,
      "outputs": [
        {
          "output_type": "stream",
          "name": "stdout",
          "text": [
            "Urban\n",
            "+------------------+-----+\n",
            "|will_go_to_college|count|\n",
            "+------------------+-----+\n",
            "|              true|  271|\n",
            "|             false|  268|\n",
            "+------------------+-----+\n",
            "\n",
            "Rural\n",
            "+------------------+-----+\n",
            "|will_go_to_college|count|\n",
            "+------------------+-----+\n",
            "|              true|  229|\n",
            "|             false|  232|\n",
            "+------------------+-----+\n",
            "\n"
          ]
        }
      ]
    },
    {
      "cell_type": "code",
      "source": [
        "# parent_was_in_college\n",
        "col = 'parent_was_in_college'\n",
        "for value in df.select(col).distinct().collect():\n",
        "    \n",
        "    print(value[0])\n",
        "    df.filter(df[col]==value[0])\\\n",
        "        .groupBy('will_go_to_college')\\\n",
        "        .count()\\\n",
        "        .show()"
      ],
      "metadata": {
        "colab": {
          "base_uri": "https://localhost:8080/"
        },
        "id": "_bJkAnBnIQ3T",
        "outputId": "e1edf4f8-b24d-4ece-c1c2-81d881dd1a09"
      },
      "execution_count": 35,
      "outputs": [
        {
          "output_type": "stream",
          "name": "stdout",
          "text": [
            "True\n",
            "+------------------+-----+\n",
            "|will_go_to_college|count|\n",
            "+------------------+-----+\n",
            "|              true|  272|\n",
            "|             false|  248|\n",
            "+------------------+-----+\n",
            "\n",
            "False\n",
            "+------------------+-----+\n",
            "|will_go_to_college|count|\n",
            "+------------------+-----+\n",
            "|              true|  228|\n",
            "|             false|  252|\n",
            "+------------------+-----+\n",
            "\n"
          ]
        }
      ]
    },
    {
      "cell_type": "markdown",
      "source": [
        "# Numerical Columns"
      ],
      "metadata": {
        "id": "h99wBJKWGq8W"
      }
    },
    {
      "cell_type": "markdown",
      "source": [
        "**Result**\n",
        "\n",
        "\n",
        "> 1.   Good grade students tend to go to college and bad grade students tend not to go to college. \n",
        "2.   Old and young parents tend to hold their children from going to college.\n",
        "3.   Parents' income and their home are positively correlated with sending their children to college.\n",
        "\n",
        ">*Warning* :\\\n",
        "We have not examined the possibility of multicollinearity.\n",
        "\n"
      ],
      "metadata": {
        "id": "yTTfgnttUyRC"
      }
    },
    {
      "cell_type": "code",
      "source": [
        "# Numerical columns + summary\n",
        "cols = ['summary', 'parent_age', 'parent_salary', 'house_area', 'average_grades']\n",
        "\n",
        "# Students who will go to college\n",
        "print('Students who will go to college')\n",
        "df.filter(df['will_go_to_college']=='true').summary().select(cols).show()\n",
        "\n",
        "# Students who wont go to college\n",
        "print('Students who wont go to college')\n",
        "df.filter(df['will_go_to_college']=='false').summary().select(cols).show()"
      ],
      "metadata": {
        "id": "tLPtCWfFMZpo",
        "colab": {
          "base_uri": "https://localhost:8080/"
        },
        "outputId": "3f00f4ff-8b50-4894-ff75-725978e68459"
      },
      "execution_count": 36,
      "outputs": [
        {
          "output_type": "stream",
          "name": "stdout",
          "text": [
            "Students who will go to college\n",
            "+-------+------------------+-----------------+-----------------+-----------------+\n",
            "|summary|        parent_age|    parent_salary|       house_area|   average_grades|\n",
            "+-------+------------------+-----------------+-----------------+-----------------+\n",
            "|  count|               500|              500|              500|              500|\n",
            "|   mean|            52.358|        6046040.0|81.65779999999991|87.80306000000002|\n",
            "| stddev|2.9966307065072875|1212242.129428243|12.84237877283995|3.568375125806835|\n",
            "|    min|                41|          1000000|             40.9|             75.0|\n",
            "|    25%|                51|          5300000|             74.4|            85.41|\n",
            "|    50%|                52|          6060000|             81.3|            87.64|\n",
            "|    75%|                54|          6730000|             90.1|            90.28|\n",
            "|    max|                64|         10000000|            120.0|             98.0|\n",
            "+-------+------------------+-----------------+-----------------+-----------------+\n",
            "\n",
            "Students who wont go to college\n",
            "+-------+-----------------+-----------------+------------------+-----------------+\n",
            "|summary|       parent_age|    parent_salary|        house_area|   average_grades|\n",
            "+-------+-----------------+-----------------+------------------+-----------------+\n",
            "|  count|              500|              500|               500|              500|\n",
            "|   mean|           52.058|        4717100.0| 67.37280000000003|84.39134000000004|\n",
            "| stddev|3.937721078820742|1247333.906276702|14.180260213389564|2.071169498274139|\n",
            "|    min|               40|          1660000|              20.0|            77.18|\n",
            "|    25%|               49|          3780000|              58.8|            83.08|\n",
            "|    50%|               52|          4650000|              67.2|            84.44|\n",
            "|    75%|               55|          5650000|              77.2|            85.63|\n",
            "|    max|               65|          8370000|             113.2|            90.97|\n",
            "+-------+-----------------+-----------------+------------------+-----------------+\n",
            "\n"
          ]
        }
      ]
    },
    {
      "cell_type": "code",
      "source": [
        "# Good grades\n",
        "filt = df['average_grades'] > 90\n",
        "df.filter(filt).groupBy('will_go_to_college').count().show()"
      ],
      "metadata": {
        "colab": {
          "base_uri": "https://localhost:8080/"
        },
        "id": "Z5hBoroDNqii",
        "outputId": "31fda862-0cad-4e5c-aa0b-f2d89f85c5a0"
      },
      "execution_count": 37,
      "outputs": [
        {
          "output_type": "stream",
          "name": "stdout",
          "text": [
            "+------------------+-----+\n",
            "|will_go_to_college|count|\n",
            "+------------------+-----+\n",
            "|              true|  131|\n",
            "|             false|    2|\n",
            "+------------------+-----+\n",
            "\n"
          ]
        }
      ]
    },
    {
      "cell_type": "code",
      "source": [
        "# Bad grades\n",
        "filt = df['average_grades'] < 83\n",
        "df.filter(filt).groupBy('will_go_to_college').count().show()"
      ],
      "metadata": {
        "colab": {
          "base_uri": "https://localhost:8080/"
        },
        "id": "D_TWaDuUOMYJ",
        "outputId": "8f026645-050f-43c6-a32f-a5c9624168a6"
      },
      "execution_count": 38,
      "outputs": [
        {
          "output_type": "stream",
          "name": "stdout",
          "text": [
            "+------------------+-----+\n",
            "|will_go_to_college|count|\n",
            "+------------------+-----+\n",
            "|              true|   39|\n",
            "|             false|  117|\n",
            "+------------------+-----+\n",
            "\n"
          ]
        }
      ]
    },
    {
      "cell_type": "code",
      "source": [
        "# Old parents\n",
        "filt = df['parent_age'] > 55\n",
        "df.filter(filt).groupBy('will_go_to_college').count().show()"
      ],
      "metadata": {
        "colab": {
          "base_uri": "https://localhost:8080/"
        },
        "id": "tjdo_7h3Oed3",
        "outputId": "57fd59c5-e12e-45bc-8457-336659208384"
      },
      "execution_count": 39,
      "outputs": [
        {
          "output_type": "stream",
          "name": "stdout",
          "text": [
            "+------------------+-----+\n",
            "|will_go_to_college|count|\n",
            "+------------------+-----+\n",
            "|              true|   59|\n",
            "|             false|   92|\n",
            "+------------------+-----+\n",
            "\n"
          ]
        }
      ]
    },
    {
      "cell_type": "code",
      "source": [
        "# Young parents\n",
        "filt = df['parent_age'] < 48\n",
        "df.filter(filt).groupBy('will_go_to_college').count().show()"
      ],
      "metadata": {
        "colab": {
          "base_uri": "https://localhost:8080/"
        },
        "id": "rewPWzp3OnZQ",
        "outputId": "385883b5-ce04-4e0e-909d-dc9344e7c3fa"
      },
      "execution_count": 40,
      "outputs": [
        {
          "output_type": "stream",
          "name": "stdout",
          "text": [
            "+------------------+-----+\n",
            "|will_go_to_college|count|\n",
            "+------------------+-----+\n",
            "|              true|   25|\n",
            "|             false|   64|\n",
            "+------------------+-----+\n",
            "\n"
          ]
        }
      ]
    },
    {
      "cell_type": "code",
      "source": [
        "# Middle age parents\n",
        "filt = (df['parent_age'] > 50) & (df['parent_age'] < 54)\n",
        "df.filter(filt).groupBy('will_go_to_college').count().show()"
      ],
      "metadata": {
        "colab": {
          "base_uri": "https://localhost:8080/"
        },
        "id": "v7A22EbhO2cy",
        "outputId": "2a98fbce-ceae-4850-962d-185ce709f838"
      },
      "execution_count": 41,
      "outputs": [
        {
          "output_type": "stream",
          "name": "stdout",
          "text": [
            "+------------------+-----+\n",
            "|will_go_to_college|count|\n",
            "+------------------+-----+\n",
            "|              true|  210|\n",
            "|             false|  154|\n",
            "+------------------+-----+\n",
            "\n"
          ]
        }
      ]
    },
    {
      "cell_type": "code",
      "source": [
        "# Quartile of parent_salary\n",
        "q1, q2, q3 = df.approxQuantile(\"parent_salary\", [0.25, 0.5, 0.75], 0)\n",
        "q1, q2, q3"
      ],
      "metadata": {
        "colab": {
          "base_uri": "https://localhost:8080/"
        },
        "id": "rzBm90n-RDkX",
        "outputId": "01df85ad-e951-4d47-d1ab-b0cb68dbfc2a"
      },
      "execution_count": 42,
      "outputs": [
        {
          "output_type": "execute_result",
          "data": {
            "text/plain": [
              "(4360000.0, 5440000.0, 6380000.0)"
            ]
          },
          "metadata": {},
          "execution_count": 42
        }
      ]
    },
    {
      "cell_type": "code",
      "source": [
        "# Relative low income salary\n",
        "filt = df['parent_salary'] < q1\n",
        "df.filter(filt).groupBy('will_go_to_college').count().show()"
      ],
      "metadata": {
        "colab": {
          "base_uri": "https://localhost:8080/"
        },
        "id": "0W9heymLPrJz",
        "outputId": "0c66c1c3-6721-48d0-e2c1-288e53a372e2"
      },
      "execution_count": 43,
      "outputs": [
        {
          "output_type": "stream",
          "name": "stdout",
          "text": [
            "+------------------+-----+\n",
            "|will_go_to_college|count|\n",
            "+------------------+-----+\n",
            "|              true|   36|\n",
            "|             false|  213|\n",
            "+------------------+-----+\n",
            "\n"
          ]
        }
      ]
    },
    {
      "cell_type": "code",
      "source": [
        "# Relative high income salary\n",
        "filt = df['parent_salary'] > q3\n",
        "df.filter(filt).groupBy('will_go_to_college').count().show()"
      ],
      "metadata": {
        "colab": {
          "base_uri": "https://localhost:8080/"
        },
        "id": "uJmhZLj1R9X7",
        "outputId": "0c5245a5-f432-4e69-f55b-993f509c9fe1"
      },
      "execution_count": 44,
      "outputs": [
        {
          "output_type": "stream",
          "name": "stdout",
          "text": [
            "+------------------+-----+\n",
            "|will_go_to_college|count|\n",
            "+------------------+-----+\n",
            "|              true|  197|\n",
            "|             false|   53|\n",
            "+------------------+-----+\n",
            "\n"
          ]
        }
      ]
    },
    {
      "cell_type": "code",
      "source": [
        "# Relative middle income salary\n",
        "filt = (df['parent_salary'] > q1) & (df['parent_salary'] < q3)\n",
        "df.filter(filt).groupBy('will_go_to_college').count().show()"
      ],
      "metadata": {
        "colab": {
          "base_uri": "https://localhost:8080/"
        },
        "id": "79PRoNWTR-lf",
        "outputId": "14566708-9452-4ccd-d480-e87e3364affe"
      },
      "execution_count": 45,
      "outputs": [
        {
          "output_type": "stream",
          "name": "stdout",
          "text": [
            "+------------------+-----+\n",
            "|will_go_to_college|count|\n",
            "+------------------+-----+\n",
            "|              true|  266|\n",
            "|             false|  232|\n",
            "+------------------+-----+\n",
            "\n"
          ]
        }
      ]
    },
    {
      "cell_type": "code",
      "source": [
        "# Median or higher salary\n",
        "filt = df['parent_salary'] > q2\n",
        "df.filter(filt).groupBy('will_go_to_college').count().show()"
      ],
      "metadata": {
        "colab": {
          "base_uri": "https://localhost:8080/"
        },
        "id": "ECXRGGMxSI3i",
        "outputId": "e6dc5ab3-5fbd-45cf-af7f-a8a2aa37a165"
      },
      "execution_count": 46,
      "outputs": [
        {
          "output_type": "stream",
          "name": "stdout",
          "text": [
            "+------------------+-----+\n",
            "|will_go_to_college|count|\n",
            "+------------------+-----+\n",
            "|              true|  353|\n",
            "|             false|  146|\n",
            "+------------------+-----+\n",
            "\n"
          ]
        }
      ]
    },
    {
      "cell_type": "code",
      "source": [
        "# Quartile of house area\n",
        "q1, q2, q3 = df.approxQuantile(\"house_area\", [0.25, 0.5, 0.75], 0)\n",
        "q1, q2, q3"
      ],
      "metadata": {
        "colab": {
          "base_uri": "https://localhost:8080/"
        },
        "id": "MfMWwB20TtqW",
        "outputId": "f3685053-b880-4ecc-980a-a9a1321c3780"
      },
      "execution_count": 47,
      "outputs": [
        {
          "output_type": "execute_result",
          "data": {
            "text/plain": [
              "(64.6, 75.5, 84.8)"
            ]
          },
          "metadata": {},
          "execution_count": 47
        }
      ]
    },
    {
      "cell_type": "code",
      "source": [
        "# Small house_area\n",
        "filt = df['house_area'] < q1\n",
        "df.filter(filt).groupBy('will_go_to_college').count().show()"
      ],
      "metadata": {
        "colab": {
          "base_uri": "https://localhost:8080/"
        },
        "outputId": "205bc76b-9643-45fb-f4a2-f40f4b4c35a2",
        "id": "jenhEgnaUPnD"
      },
      "execution_count": 48,
      "outputs": [
        {
          "output_type": "stream",
          "name": "stdout",
          "text": [
            "+------------------+-----+\n",
            "|will_go_to_college|count|\n",
            "+------------------+-----+\n",
            "|              true|   46|\n",
            "|             false|  200|\n",
            "+------------------+-----+\n",
            "\n"
          ]
        }
      ]
    },
    {
      "cell_type": "code",
      "source": [
        "# Large house area\n",
        "filt = df['house_area'] > q3\n",
        "df.filter(filt).groupBy('will_go_to_college').count().show()"
      ],
      "metadata": {
        "colab": {
          "base_uri": "https://localhost:8080/"
        },
        "id": "j73FHQJ9UXUu",
        "outputId": "cc9f7710-9658-4ce1-acea-355766fe4373"
      },
      "execution_count": 49,
      "outputs": [
        {
          "output_type": "stream",
          "name": "stdout",
          "text": [
            "+------------------+-----+\n",
            "|will_go_to_college|count|\n",
            "+------------------+-----+\n",
            "|              true|  198|\n",
            "|             false|   52|\n",
            "+------------------+-----+\n",
            "\n"
          ]
        }
      ]
    },
    {
      "cell_type": "code",
      "source": [
        "# Middle house area\n",
        "filt = (df['house_area'] > q1) & (df['house_area'] < q3)\n",
        "df.filter(filt).groupBy('will_go_to_college').count().show()"
      ],
      "metadata": {
        "colab": {
          "base_uri": "https://localhost:8080/"
        },
        "outputId": "ee2bf06c-c77e-42e5-a941-290ca215c6b3",
        "id": "pfFXJcwRUPnD"
      },
      "execution_count": 50,
      "outputs": [
        {
          "output_type": "stream",
          "name": "stdout",
          "text": [
            "+------------------+-----+\n",
            "|will_go_to_college|count|\n",
            "+------------------+-----+\n",
            "|              true|  253|\n",
            "|             false|  243|\n",
            "+------------------+-----+\n",
            "\n"
          ]
        }
      ]
    },
    {
      "cell_type": "code",
      "source": [
        "# Median or larger house area\n",
        "filt = df['house_area'] > q2\n",
        "df.filter(filt).groupBy('will_go_to_college').count().show()"
      ],
      "metadata": {
        "colab": {
          "base_uri": "https://localhost:8080/"
        },
        "outputId": "efd17d58-3135-4e1d-9d5f-7ca520e6f2b7",
        "id": "943eO_EdUPnD"
      },
      "execution_count": 51,
      "outputs": [
        {
          "output_type": "stream",
          "name": "stdout",
          "text": [
            "+------------------+-----+\n",
            "|will_go_to_college|count|\n",
            "+------------------+-----+\n",
            "|              true|  350|\n",
            "|             false|  148|\n",
            "+------------------+-----+\n",
            "\n"
          ]
        }
      ]
    }
  ]
}