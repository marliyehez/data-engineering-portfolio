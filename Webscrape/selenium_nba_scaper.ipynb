{
 "cells": [
  {
   "cell_type": "code",
   "execution_count": 5,
   "metadata": {},
   "outputs": [],
   "source": [
    "from selenium import webdriver\n",
    "from selenium.webdriver.common.keys import Keys\n",
    "from selenium.webdriver.common.by import By\n",
    "from selenium.webdriver.chrome.options import Options\n",
    "\n",
    "import time\n",
    "import pandas as pd"
   ]
  },
  {
   "cell_type": "code",
   "execution_count": 6,
   "metadata": {},
   "outputs": [],
   "source": [
    "# Website\n",
    "website = \"https://www.nba.com/players\"\n",
    "\n",
    "# Players' name to be scaped (Top Scorers in NBA 2021 Season)\n",
    "players_name_list = [\"Joel Embiid\", \"LeBron James\", \"Giannis Antetokounmpo\", \"Kevin Durant\", \"Luka Doncic\"]"
   ]
  },
  {
   "cell_type": "code",
   "execution_count": 7,
   "metadata": {},
   "outputs": [
    {
     "name": "stderr",
     "output_type": "stream",
     "text": [
      "C:\\Users\\User\\AppData\\Local\\Temp\\ipykernel_13884\\3208460696.py:2: DeprecationWarning: executable_path has been deprecated, please pass in a Service object\n",
      "  driver = webdriver.Chrome(r\"C:\\Users\\User\\Downloads\\chromedriver_win32\\chromedriver.exe\")\n"
     ]
    }
   ],
   "source": [
    "# Initialize Chrome\n",
    "driver = webdriver.Chrome(r\"C:\\Users\\User\\Downloads\\chromedriver_win32\\chromedriver.exe\")\n",
    "\n",
    "# Open Website\n",
    "driver.get(website)\n",
    "\n",
    "# Maximize Window\n",
    "driver.maximize_window()\n",
    "time.sleep(0.5)\n",
    "\n",
    "# Accept Cookies\n",
    "accept_cookies_button = driver.find_element(By.XPATH,'//button[@id=\"onetrust-accept-btn-handler\"]')\n",
    "accept_cookies_button.click()\n",
    "time.sleep(3)"
   ]
  },
  {
   "cell_type": "code",
   "execution_count": 8,
   "metadata": {},
   "outputs": [],
   "source": [
    "height_list = []\n",
    "weight_list = []\n",
    "country_list = []\n",
    "birthdate_list = []\n",
    "draft_list = []\n",
    "\n",
    "for name in players_name_list:\n",
    "\n",
    "    # Search bar\n",
    "    search_bar = driver.find_element(By.XPATH,'//div[@class=\"MaxWidthContainer_mwc__ID5AG\"]//input[@class=\"Input_input__7s5ug\"]')\n",
    "    search_bar.send_keys(name)\n",
    "    time.sleep(1)\n",
    "\n",
    "    # Click on the first player\n",
    "    player_button = driver.find_element(By.XPATH, '//a[@class=\"Anchor_anchor__cSc3P RosterRow_playerLink__qw1vG\"]')\n",
    "    player_button.click()\n",
    "    time.sleep(1)\n",
    "\n",
    "    # Appending height\n",
    "    height_list.append(driver.find_element(By.XPATH, '(//p[@class=\"PlayerSummary_playerInfoValue__JS8_v\"])[1]').text)\n",
    "\n",
    "    # Appending weight\n",
    "    weight_list.append(driver.find_element(By.XPATH, '(//p[@class=\"PlayerSummary_playerInfoValue__JS8_v\"])[2]').text)\n",
    "\n",
    "    # Appending country\n",
    "    country_list.append(driver.find_element(By.XPATH, '(//p[@class=\"PlayerSummary_playerInfoValue__JS8_v\"])[3]').text)\n",
    "\n",
    "    # Appending birthdate\n",
    "    birthdate_list.append(driver.find_element(By.XPATH, '(//p[@class=\"PlayerSummary_playerInfoValue__JS8_v\"])[6]').text)\n",
    "\n",
    "    # Appending draft\n",
    "    draft_list.append(driver.find_element(By.XPATH, '(//p[@class=\"PlayerSummary_playerInfoValue__JS8_v\"])[7]').text)\n",
    "\n",
    "    # Back on to previous page\n",
    "    driver.back()\n",
    "    time.sleep(1)\n",
    "\n",
    "    # Clear the search_bar\n",
    "    search_bar = driver.find_element(By.XPATH,'//div[@class=\"MaxWidthContainer_mwc__ID5AG\"]//input[@class=\"Input_input__7s5ug\"]')\n",
    "    search_bar.clear()"
   ]
  },
  {
   "cell_type": "code",
   "execution_count": 9,
   "metadata": {},
   "outputs": [
    {
     "data": {
      "text/html": [
       "<div>\n",
       "<style scoped>\n",
       "    .dataframe tbody tr th:only-of-type {\n",
       "        vertical-align: middle;\n",
       "    }\n",
       "\n",
       "    .dataframe tbody tr th {\n",
       "        vertical-align: top;\n",
       "    }\n",
       "\n",
       "    .dataframe thead th {\n",
       "        text-align: right;\n",
       "    }\n",
       "</style>\n",
       "<table border=\"1\" class=\"dataframe\">\n",
       "  <thead>\n",
       "    <tr style=\"text-align: right;\">\n",
       "      <th></th>\n",
       "      <th>Name</th>\n",
       "      <th>Height</th>\n",
       "      <th>Weight</th>\n",
       "      <th>Country</th>\n",
       "      <th>Birthdate</th>\n",
       "      <th>Draft</th>\n",
       "    </tr>\n",
       "  </thead>\n",
       "  <tbody>\n",
       "    <tr>\n",
       "      <th>0</th>\n",
       "      <td>Joel Embiid</td>\n",
       "      <td>7'0\" (2.13m)</td>\n",
       "      <td>280lb (127kg)</td>\n",
       "      <td>Cameroon</td>\n",
       "      <td>March 16, 1994</td>\n",
       "      <td>2014 R1 Pick 3</td>\n",
       "    </tr>\n",
       "    <tr>\n",
       "      <th>1</th>\n",
       "      <td>LeBron James</td>\n",
       "      <td>6'9\" (2.06m)</td>\n",
       "      <td>250lb (113kg)</td>\n",
       "      <td>USA</td>\n",
       "      <td>December 30, 1984</td>\n",
       "      <td>2003 R1 Pick 1</td>\n",
       "    </tr>\n",
       "    <tr>\n",
       "      <th>2</th>\n",
       "      <td>Giannis Antetokounmpo</td>\n",
       "      <td>7'0\" (2.13m)</td>\n",
       "      <td>243lb (110kg)</td>\n",
       "      <td>Greece</td>\n",
       "      <td>December 6, 1994</td>\n",
       "      <td>2013 R1 Pick 15</td>\n",
       "    </tr>\n",
       "    <tr>\n",
       "      <th>3</th>\n",
       "      <td>Kevin Durant</td>\n",
       "      <td>6'10\" (2.08m)</td>\n",
       "      <td>240lb (109kg)</td>\n",
       "      <td>USA</td>\n",
       "      <td>September 29, 1988</td>\n",
       "      <td>2007 R1 Pick 2</td>\n",
       "    </tr>\n",
       "    <tr>\n",
       "      <th>4</th>\n",
       "      <td>Luka Doncic</td>\n",
       "      <td>6'7\" (2.01m)</td>\n",
       "      <td>230lb (104kg)</td>\n",
       "      <td>Slovenia</td>\n",
       "      <td>February 28, 1999</td>\n",
       "      <td>2018 R1 Pick 3</td>\n",
       "    </tr>\n",
       "  </tbody>\n",
       "</table>\n",
       "</div>"
      ],
      "text/plain": [
       "                    Name         Height         Weight   Country  \\\n",
       "0            Joel Embiid   7'0\" (2.13m)  280lb (127kg)  Cameroon   \n",
       "1           LeBron James   6'9\" (2.06m)  250lb (113kg)       USA   \n",
       "2  Giannis Antetokounmpo   7'0\" (2.13m)  243lb (110kg)    Greece   \n",
       "3           Kevin Durant  6'10\" (2.08m)  240lb (109kg)       USA   \n",
       "4            Luka Doncic   6'7\" (2.01m)  230lb (104kg)  Slovenia   \n",
       "\n",
       "            Birthdate            Draft  \n",
       "0      March 16, 1994   2014 R1 Pick 3  \n",
       "1   December 30, 1984   2003 R1 Pick 1  \n",
       "2    December 6, 1994  2013 R1 Pick 15  \n",
       "3  September 29, 1988   2007 R1 Pick 2  \n",
       "4   February 28, 1999   2018 R1 Pick 3  "
      ]
     },
     "execution_count": 9,
     "metadata": {},
     "output_type": "execute_result"
    }
   ],
   "source": [
    "# Result dataframe\n",
    "player_df = pd.DataFrame({\n",
    "    'Name' : players_name_list,\n",
    "    'Height': height_list,\n",
    "    'Weight': weight_list,\n",
    "    'Country': country_list,\n",
    "    'Birthdate': birthdate_list,\n",
    "    'Draft': draft_list\n",
    "    })\n",
    "\n",
    "# Free some memory space\n",
    "del players_name_list, height_list, weight_list, country_list, birthdate_list, draft_list\n",
    "\n",
    "# Display the dataframe\n",
    "player_df"
   ]
  }
 ],
 "metadata": {
  "kernelspec": {
   "display_name": "Python 3",
   "language": "python",
   "name": "python3"
  },
  "language_info": {
   "codemirror_mode": {
    "name": "ipython",
    "version": 3
   },
   "file_extension": ".py",
   "mimetype": "text/x-python",
   "name": "python",
   "nbconvert_exporter": "python",
   "pygments_lexer": "ipython3",
   "version": "3.9.13 (tags/v3.9.13:6de2ca5, May 17 2022, 16:36:42) [MSC v.1929 64 bit (AMD64)]"
  },
  "orig_nbformat": 4,
  "vscode": {
   "interpreter": {
    "hash": "cf92aa13fedf815d5c8dd192b8d835913fde3e8bc926b2a0ad6cc74ef2ba3ca2"
   }
  }
 },
 "nbformat": 4,
 "nbformat_minor": 2
}
